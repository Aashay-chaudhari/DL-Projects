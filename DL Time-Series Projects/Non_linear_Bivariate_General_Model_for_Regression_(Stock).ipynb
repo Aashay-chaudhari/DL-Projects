{
  "nbformat": 4,
  "nbformat_minor": 0,
  "metadata": {
    "colab": {
      "provenance": [],
      "collapsed_sections": [
        "FXQmrz7WdTtG",
        "bMc1ZMFOabee"
      ]
    },
    "kernelspec": {
      "name": "python3",
      "display_name": "Python 3"
    },
    "language_info": {
      "name": "python"
    }
  },
  "cells": [
    {
      "cell_type": "markdown",
      "source": [
        "#Install Libraries"
      ],
      "metadata": {
        "id": "YssAeP4Pag_Y"
      }
    },
    {
      "cell_type": "code",
      "execution_count": null,
      "metadata": {
        "id": "FkzaHiV_dKoc",
        "colab": {
          "base_uri": "https://localhost:8080/"
        },
        "outputId": "794ec91e-9451-4260-a32a-aab5a46c8c83"
      },
      "outputs": [
        {
          "output_type": "stream",
          "name": "stdout",
          "text": [
            "Looking in indexes: https://pypi.org/simple, https://us-python.pkg.dev/colab-wheels/public/simple/\n",
            "Requirement already satisfied: yfinance in /usr/local/lib/python3.10/dist-packages (0.2.18)\n",
            "Requirement already satisfied: pytz>=2022.5 in /usr/local/lib/python3.10/dist-packages (from yfinance) (2022.7.1)\n",
            "Requirement already satisfied: html5lib>=1.1 in /usr/local/lib/python3.10/dist-packages (from yfinance) (1.1)\n",
            "Requirement already satisfied: pandas>=1.3.0 in /usr/local/lib/python3.10/dist-packages (from yfinance) (1.5.3)\n",
            "Requirement already satisfied: frozendict>=2.3.4 in /usr/local/lib/python3.10/dist-packages (from yfinance) (2.3.7)\n",
            "Requirement already satisfied: beautifulsoup4>=4.11.1 in /usr/local/lib/python3.10/dist-packages (from yfinance) (4.11.2)\n",
            "Requirement already satisfied: lxml>=4.9.1 in /usr/local/lib/python3.10/dist-packages (from yfinance) (4.9.2)\n",
            "Requirement already satisfied: requests>=2.26 in /usr/local/lib/python3.10/dist-packages (from yfinance) (2.27.1)\n",
            "Requirement already satisfied: numpy>=1.16.5 in /usr/local/lib/python3.10/dist-packages (from yfinance) (1.22.4)\n",
            "Requirement already satisfied: cryptography>=3.3.2 in /usr/local/lib/python3.10/dist-packages (from yfinance) (40.0.2)\n",
            "Requirement already satisfied: multitasking>=0.0.7 in /usr/local/lib/python3.10/dist-packages (from yfinance) (0.0.11)\n",
            "Requirement already satisfied: appdirs>=1.4.4 in /usr/local/lib/python3.10/dist-packages (from yfinance) (1.4.4)\n",
            "Requirement already satisfied: soupsieve>1.2 in /usr/local/lib/python3.10/dist-packages (from beautifulsoup4>=4.11.1->yfinance) (2.4.1)\n",
            "Requirement already satisfied: cffi>=1.12 in /usr/local/lib/python3.10/dist-packages (from cryptography>=3.3.2->yfinance) (1.15.1)\n",
            "Requirement already satisfied: six>=1.9 in /usr/local/lib/python3.10/dist-packages (from html5lib>=1.1->yfinance) (1.16.0)\n",
            "Requirement already satisfied: webencodings in /usr/local/lib/python3.10/dist-packages (from html5lib>=1.1->yfinance) (0.5.1)\n",
            "Requirement already satisfied: python-dateutil>=2.8.1 in /usr/local/lib/python3.10/dist-packages (from pandas>=1.3.0->yfinance) (2.8.2)\n",
            "Requirement already satisfied: charset-normalizer~=2.0.0 in /usr/local/lib/python3.10/dist-packages (from requests>=2.26->yfinance) (2.0.12)\n",
            "Requirement already satisfied: urllib3<1.27,>=1.21.1 in /usr/local/lib/python3.10/dist-packages (from requests>=2.26->yfinance) (1.26.15)\n",
            "Requirement already satisfied: idna<4,>=2.5 in /usr/local/lib/python3.10/dist-packages (from requests>=2.26->yfinance) (3.4)\n",
            "Requirement already satisfied: certifi>=2017.4.17 in /usr/local/lib/python3.10/dist-packages (from requests>=2.26->yfinance) (2022.12.7)\n",
            "Requirement already satisfied: pycparser in /usr/local/lib/python3.10/dist-packages (from cffi>=1.12->cryptography>=3.3.2->yfinance) (2.21)\n"
          ]
        }
      ],
      "source": [
        "pip install yfinance"
      ]
    },
    {
      "cell_type": "code",
      "source": [
        "pip install pandas_ta"
      ],
      "metadata": {
        "id": "nTwEVZH_JQX0",
        "colab": {
          "base_uri": "https://localhost:8080/"
        },
        "outputId": "10bcf4a0-6dfb-49dd-c643-6ccb05ddf3c0"
      },
      "execution_count": null,
      "outputs": [
        {
          "output_type": "stream",
          "name": "stdout",
          "text": [
            "Looking in indexes: https://pypi.org/simple, https://us-python.pkg.dev/colab-wheels/public/simple/\n",
            "Collecting pandas_ta\n",
            "  Downloading pandas_ta-0.3.14b.tar.gz (115 kB)\n",
            "\u001b[2K     \u001b[90m━━━━━━━━━━━━━━━━━━━━━━━━━━━━━━━━━━━━━━━\u001b[0m \u001b[32m115.1/115.1 kB\u001b[0m \u001b[31m2.6 MB/s\u001b[0m eta \u001b[36m0:00:00\u001b[0m\n",
            "\u001b[?25h  Preparing metadata (setup.py) ... \u001b[?25l\u001b[?25hdone\n",
            "Requirement already satisfied: pandas in /usr/local/lib/python3.10/dist-packages (from pandas_ta) (1.5.3)\n",
            "Requirement already satisfied: python-dateutil>=2.8.1 in /usr/local/lib/python3.10/dist-packages (from pandas->pandas_ta) (2.8.2)\n",
            "Requirement already satisfied: pytz>=2020.1 in /usr/local/lib/python3.10/dist-packages (from pandas->pandas_ta) (2022.7.1)\n",
            "Requirement already satisfied: numpy>=1.21.0 in /usr/local/lib/python3.10/dist-packages (from pandas->pandas_ta) (1.22.4)\n",
            "Requirement already satisfied: six>=1.5 in /usr/local/lib/python3.10/dist-packages (from python-dateutil>=2.8.1->pandas->pandas_ta) (1.16.0)\n",
            "Building wheels for collected packages: pandas_ta\n",
            "  Building wheel for pandas_ta (setup.py) ... \u001b[?25l\u001b[?25hdone\n",
            "  Created wheel for pandas_ta: filename=pandas_ta-0.3.14b0-py3-none-any.whl size=218921 sha256=0610108303441b84e1c5bddbef9e81aaaf2946a0459bb8a2051b59534b66ffc9\n",
            "  Stored in directory: /root/.cache/pip/wheels/69/00/ac/f7fa862c34b0e2ef320175100c233377b4c558944f12474cf0\n",
            "Successfully built pandas_ta\n",
            "Installing collected packages: pandas_ta\n",
            "Successfully installed pandas_ta-0.3.14b0\n"
          ]
        }
      ]
    },
    {
      "cell_type": "code",
      "source": [
        "#Import utility\n",
        "import numpy as np\n",
        "import pandas as pd\n",
        "import matplotlib.pyplot as plt\n",
        "\n",
        "#Import data import libraries\n",
        "import yfinance as yf\n",
        "yf.pdr_override()\n",
        "from pandas_datareader import data as pdr\n",
        "import pandas_ta as pta\n",
        "\n",
        "#Import data preprocessing libraries\n",
        "from sklearn.model_selection import train_test_split\n",
        "from sklearn.preprocessing import MinMaxScaler, StandardScaler\n",
        "\n",
        "#Import DL libraries\n",
        "from tensorflow.keras.layers import Dense, LSTM,GRU,SimpleRNN, Dropout,Bidirectional, Input, MultiHeadAttention\n",
        "from tensorflow.keras.optimizers import Adam\n",
        "from keras.models import Sequential\n",
        "from keras.layers import Dense, LSTM"
      ],
      "metadata": {
        "id": "TVyFHc9jiLQZ"
      },
      "execution_count": null,
      "outputs": []
    },
    {
      "cell_type": "code",
      "source": [
        "base_stock = \"HDFCBANK.NS\"\n",
        "test_stock = \"ICICIBANK.NS\""
      ],
      "metadata": {
        "id": "5QIbGk0yQV8t"
      },
      "execution_count": null,
      "outputs": []
    },
    {
      "cell_type": "markdown",
      "source": [
        "#Import Data"
      ],
      "metadata": {
        "id": "SJvI6Ig5akRc"
      }
    },
    {
      "cell_type": "code",
      "source": [
        "df = pdr.get_data_yahoo(base_stock, start=\"1980-02-01\", end=\"2022-07-13\")\n",
        "df"
      ],
      "metadata": {
        "colab": {
          "base_uri": "https://localhost:8080/",
          "height": 473
        },
        "id": "gYedtCQNInuH",
        "outputId": "ed070d51-f975-47bf-a57a-807554035d59"
      },
      "execution_count": null,
      "outputs": [
        {
          "output_type": "stream",
          "name": "stdout",
          "text": [
            "\r[*********************100%***********************]  1 of 1 completed\n"
          ]
        },
        {
          "output_type": "execute_result",
          "data": {
            "text/plain": [
              "                Open         High          Low        Close    Adj Close  \\\n",
              "Date                                                                       \n",
              "1996-01-01     3.030     3.030000     2.925000     2.980000     2.389957   \n",
              "1996-01-02     2.980     3.025000     2.950000     2.975000     2.385947   \n",
              "1996-01-03     2.975     2.995000     2.950000     2.985000     2.393967   \n",
              "1996-01-04     2.985     2.980000     2.940000     2.965000     2.377928   \n",
              "1996-01-05     2.965     2.980000     2.950000     2.960000     2.373918   \n",
              "...              ...          ...          ...          ...          ...   \n",
              "2022-07-06  1348.000  1373.400024  1347.099976  1371.250000  1371.250000   \n",
              "2022-07-07  1380.000  1398.000000  1374.449951  1395.800049  1395.800049   \n",
              "2022-07-08  1410.000  1410.000000  1394.750000  1397.099976  1397.099976   \n",
              "2022-07-11  1394.000  1409.900024  1393.250000  1406.150024  1406.150024   \n",
              "2022-07-12  1405.250  1405.250000  1389.400024  1391.800049  1391.800049   \n",
              "\n",
              "             Volume  \n",
              "Date                 \n",
              "1996-01-01   350000  \n",
              "1996-01-02   412000  \n",
              "1996-01-03   284000  \n",
              "1996-01-04   282000  \n",
              "1996-01-05   189000  \n",
              "...             ...  \n",
              "2022-07-06  7524539  \n",
              "2022-07-07  8871571  \n",
              "2022-07-08  6237015  \n",
              "2022-07-11  3731416  \n",
              "2022-07-12  4938487  \n",
              "\n",
              "[6676 rows x 6 columns]"
            ],
            "text/html": [
              "\n",
              "  <div id=\"df-fc5b26a8-4319-460c-baad-c8b03ca3861d\">\n",
              "    <div class=\"colab-df-container\">\n",
              "      <div>\n",
              "<style scoped>\n",
              "    .dataframe tbody tr th:only-of-type {\n",
              "        vertical-align: middle;\n",
              "    }\n",
              "\n",
              "    .dataframe tbody tr th {\n",
              "        vertical-align: top;\n",
              "    }\n",
              "\n",
              "    .dataframe thead th {\n",
              "        text-align: right;\n",
              "    }\n",
              "</style>\n",
              "<table border=\"1\" class=\"dataframe\">\n",
              "  <thead>\n",
              "    <tr style=\"text-align: right;\">\n",
              "      <th></th>\n",
              "      <th>Open</th>\n",
              "      <th>High</th>\n",
              "      <th>Low</th>\n",
              "      <th>Close</th>\n",
              "      <th>Adj Close</th>\n",
              "      <th>Volume</th>\n",
              "    </tr>\n",
              "    <tr>\n",
              "      <th>Date</th>\n",
              "      <th></th>\n",
              "      <th></th>\n",
              "      <th></th>\n",
              "      <th></th>\n",
              "      <th></th>\n",
              "      <th></th>\n",
              "    </tr>\n",
              "  </thead>\n",
              "  <tbody>\n",
              "    <tr>\n",
              "      <th>1996-01-01</th>\n",
              "      <td>3.030</td>\n",
              "      <td>3.030000</td>\n",
              "      <td>2.925000</td>\n",
              "      <td>2.980000</td>\n",
              "      <td>2.389957</td>\n",
              "      <td>350000</td>\n",
              "    </tr>\n",
              "    <tr>\n",
              "      <th>1996-01-02</th>\n",
              "      <td>2.980</td>\n",
              "      <td>3.025000</td>\n",
              "      <td>2.950000</td>\n",
              "      <td>2.975000</td>\n",
              "      <td>2.385947</td>\n",
              "      <td>412000</td>\n",
              "    </tr>\n",
              "    <tr>\n",
              "      <th>1996-01-03</th>\n",
              "      <td>2.975</td>\n",
              "      <td>2.995000</td>\n",
              "      <td>2.950000</td>\n",
              "      <td>2.985000</td>\n",
              "      <td>2.393967</td>\n",
              "      <td>284000</td>\n",
              "    </tr>\n",
              "    <tr>\n",
              "      <th>1996-01-04</th>\n",
              "      <td>2.985</td>\n",
              "      <td>2.980000</td>\n",
              "      <td>2.940000</td>\n",
              "      <td>2.965000</td>\n",
              "      <td>2.377928</td>\n",
              "      <td>282000</td>\n",
              "    </tr>\n",
              "    <tr>\n",
              "      <th>1996-01-05</th>\n",
              "      <td>2.965</td>\n",
              "      <td>2.980000</td>\n",
              "      <td>2.950000</td>\n",
              "      <td>2.960000</td>\n",
              "      <td>2.373918</td>\n",
              "      <td>189000</td>\n",
              "    </tr>\n",
              "    <tr>\n",
              "      <th>...</th>\n",
              "      <td>...</td>\n",
              "      <td>...</td>\n",
              "      <td>...</td>\n",
              "      <td>...</td>\n",
              "      <td>...</td>\n",
              "      <td>...</td>\n",
              "    </tr>\n",
              "    <tr>\n",
              "      <th>2022-07-06</th>\n",
              "      <td>1348.000</td>\n",
              "      <td>1373.400024</td>\n",
              "      <td>1347.099976</td>\n",
              "      <td>1371.250000</td>\n",
              "      <td>1371.250000</td>\n",
              "      <td>7524539</td>\n",
              "    </tr>\n",
              "    <tr>\n",
              "      <th>2022-07-07</th>\n",
              "      <td>1380.000</td>\n",
              "      <td>1398.000000</td>\n",
              "      <td>1374.449951</td>\n",
              "      <td>1395.800049</td>\n",
              "      <td>1395.800049</td>\n",
              "      <td>8871571</td>\n",
              "    </tr>\n",
              "    <tr>\n",
              "      <th>2022-07-08</th>\n",
              "      <td>1410.000</td>\n",
              "      <td>1410.000000</td>\n",
              "      <td>1394.750000</td>\n",
              "      <td>1397.099976</td>\n",
              "      <td>1397.099976</td>\n",
              "      <td>6237015</td>\n",
              "    </tr>\n",
              "    <tr>\n",
              "      <th>2022-07-11</th>\n",
              "      <td>1394.000</td>\n",
              "      <td>1409.900024</td>\n",
              "      <td>1393.250000</td>\n",
              "      <td>1406.150024</td>\n",
              "      <td>1406.150024</td>\n",
              "      <td>3731416</td>\n",
              "    </tr>\n",
              "    <tr>\n",
              "      <th>2022-07-12</th>\n",
              "      <td>1405.250</td>\n",
              "      <td>1405.250000</td>\n",
              "      <td>1389.400024</td>\n",
              "      <td>1391.800049</td>\n",
              "      <td>1391.800049</td>\n",
              "      <td>4938487</td>\n",
              "    </tr>\n",
              "  </tbody>\n",
              "</table>\n",
              "<p>6676 rows × 6 columns</p>\n",
              "</div>\n",
              "      <button class=\"colab-df-convert\" onclick=\"convertToInteractive('df-fc5b26a8-4319-460c-baad-c8b03ca3861d')\"\n",
              "              title=\"Convert this dataframe to an interactive table.\"\n",
              "              style=\"display:none;\">\n",
              "        \n",
              "  <svg xmlns=\"http://www.w3.org/2000/svg\" height=\"24px\"viewBox=\"0 0 24 24\"\n",
              "       width=\"24px\">\n",
              "    <path d=\"M0 0h24v24H0V0z\" fill=\"none\"/>\n",
              "    <path d=\"M18.56 5.44l.94 2.06.94-2.06 2.06-.94-2.06-.94-.94-2.06-.94 2.06-2.06.94zm-11 1L8.5 8.5l.94-2.06 2.06-.94-2.06-.94L8.5 2.5l-.94 2.06-2.06.94zm10 10l.94 2.06.94-2.06 2.06-.94-2.06-.94-.94-2.06-.94 2.06-2.06.94z\"/><path d=\"M17.41 7.96l-1.37-1.37c-.4-.4-.92-.59-1.43-.59-.52 0-1.04.2-1.43.59L10.3 9.45l-7.72 7.72c-.78.78-.78 2.05 0 2.83L4 21.41c.39.39.9.59 1.41.59.51 0 1.02-.2 1.41-.59l7.78-7.78 2.81-2.81c.8-.78.8-2.07 0-2.86zM5.41 20L4 18.59l7.72-7.72 1.47 1.35L5.41 20z\"/>\n",
              "  </svg>\n",
              "      </button>\n",
              "      \n",
              "  <style>\n",
              "    .colab-df-container {\n",
              "      display:flex;\n",
              "      flex-wrap:wrap;\n",
              "      gap: 12px;\n",
              "    }\n",
              "\n",
              "    .colab-df-convert {\n",
              "      background-color: #E8F0FE;\n",
              "      border: none;\n",
              "      border-radius: 50%;\n",
              "      cursor: pointer;\n",
              "      display: none;\n",
              "      fill: #1967D2;\n",
              "      height: 32px;\n",
              "      padding: 0 0 0 0;\n",
              "      width: 32px;\n",
              "    }\n",
              "\n",
              "    .colab-df-convert:hover {\n",
              "      background-color: #E2EBFA;\n",
              "      box-shadow: 0px 1px 2px rgba(60, 64, 67, 0.3), 0px 1px 3px 1px rgba(60, 64, 67, 0.15);\n",
              "      fill: #174EA6;\n",
              "    }\n",
              "\n",
              "    [theme=dark] .colab-df-convert {\n",
              "      background-color: #3B4455;\n",
              "      fill: #D2E3FC;\n",
              "    }\n",
              "\n",
              "    [theme=dark] .colab-df-convert:hover {\n",
              "      background-color: #434B5C;\n",
              "      box-shadow: 0px 1px 3px 1px rgba(0, 0, 0, 0.15);\n",
              "      filter: drop-shadow(0px 1px 2px rgba(0, 0, 0, 0.3));\n",
              "      fill: #FFFFFF;\n",
              "    }\n",
              "  </style>\n",
              "\n",
              "      <script>\n",
              "        const buttonEl =\n",
              "          document.querySelector('#df-fc5b26a8-4319-460c-baad-c8b03ca3861d button.colab-df-convert');\n",
              "        buttonEl.style.display =\n",
              "          google.colab.kernel.accessAllowed ? 'block' : 'none';\n",
              "\n",
              "        async function convertToInteractive(key) {\n",
              "          const element = document.querySelector('#df-fc5b26a8-4319-460c-baad-c8b03ca3861d');\n",
              "          const dataTable =\n",
              "            await google.colab.kernel.invokeFunction('convertToInteractive',\n",
              "                                                     [key], {});\n",
              "          if (!dataTable) return;\n",
              "\n",
              "          const docLinkHtml = 'Like what you see? Visit the ' +\n",
              "            '<a target=\"_blank\" href=https://colab.research.google.com/notebooks/data_table.ipynb>data table notebook</a>'\n",
              "            + ' to learn more about interactive tables.';\n",
              "          element.innerHTML = '';\n",
              "          dataTable['output_type'] = 'display_data';\n",
              "          await google.colab.output.renderOutput(dataTable, element);\n",
              "          const docLink = document.createElement('div');\n",
              "          docLink.innerHTML = docLinkHtml;\n",
              "          element.appendChild(docLink);\n",
              "        }\n",
              "      </script>\n",
              "    </div>\n",
              "  </div>\n",
              "  "
            ]
          },
          "metadata": {},
          "execution_count": 5
        }
      ]
    },
    {
      "cell_type": "code",
      "source": [
        "# company_arr = ['RELIANCE.NS', 'POWERGRID.NS', 'LT.NS', 'DMART.NS', 'TATASTEEL.NS', 'HDFC.NS', 'HDFCBANK.NS', 'ICICIBANK.NS', 'MARUTI.NS', 'ONGC.NS', 'VEDL.NS', 'UPL.NS', 'DABUR.NS', 'YESBANK.NS']\n",
        "\n",
        "# for company in company_arr:\n",
        "#   df = pdr.get_data_yahoo(company , start=\"1980-02-01\", end=\"2022-07-13\")\n",
        "#   print(\"inside \", company, \" shape: \", df.shape)\n",
        "#   buy = 0\n",
        "#   sell = 0\n",
        "\n",
        "#   for i in range(0, df.shape[0]-1):\n",
        "#     if df.iloc[i+1][0] >= df.iloc[i][3]:\n",
        "#       buy += 1\n",
        "#     else:\n",
        "#       sell += 1\n",
        "\n",
        "#   print(\"buy sell for company: \", company, \"is: \",buy, sell, buy*100/(buy+sell))"
      ],
      "metadata": {
        "id": "dSu5UfSE-6QD"
      },
      "execution_count": null,
      "outputs": []
    },
    {
      "cell_type": "code",
      "source": [
        "df['diff'] = (df['Close'] - df['Open'])*100/df['Open']\n",
        "df"
      ],
      "metadata": {
        "colab": {
          "base_uri": "https://localhost:8080/",
          "height": 455
        },
        "id": "sj1mbpf3-3wv",
        "outputId": "a8860d91-3106-427d-e8e8-5f0ba17807a1"
      },
      "execution_count": null,
      "outputs": [
        {
          "output_type": "execute_result",
          "data": {
            "text/plain": [
              "                Open         High          Low        Close    Adj Close  \\\n",
              "Date                                                                       \n",
              "1996-01-01     3.030     3.030000     2.925000     2.980000     2.389957   \n",
              "1996-01-02     2.980     3.025000     2.950000     2.975000     2.385947   \n",
              "1996-01-03     2.975     2.995000     2.950000     2.985000     2.393967   \n",
              "1996-01-04     2.985     2.980000     2.940000     2.965000     2.377928   \n",
              "1996-01-05     2.965     2.980000     2.950000     2.960000     2.373918   \n",
              "...              ...          ...          ...          ...          ...   \n",
              "2022-07-06  1348.000  1373.400024  1347.099976  1371.250000  1371.250000   \n",
              "2022-07-07  1380.000  1398.000000  1374.449951  1395.800049  1395.800049   \n",
              "2022-07-08  1410.000  1410.000000  1394.750000  1397.099976  1397.099976   \n",
              "2022-07-11  1394.000  1409.900024  1393.250000  1406.150024  1406.150024   \n",
              "2022-07-12  1405.250  1405.250000  1389.400024  1391.800049  1391.800049   \n",
              "\n",
              "             Volume      diff  \n",
              "Date                           \n",
              "1996-01-01   350000 -1.650163  \n",
              "1996-01-02   412000 -0.167789  \n",
              "1996-01-03   284000  0.336134  \n",
              "1996-01-04   282000 -0.670016  \n",
              "1996-01-05   189000 -0.168630  \n",
              "...             ...       ...  \n",
              "2022-07-06  7524539  1.724777  \n",
              "2022-07-07  8871571  1.144931  \n",
              "2022-07-08  6237015 -0.914895  \n",
              "2022-07-11  3731416  0.871594  \n",
              "2022-07-12  4938487 -0.957122  \n",
              "\n",
              "[6676 rows x 7 columns]"
            ],
            "text/html": [
              "\n",
              "  <div id=\"df-cbb40124-2f83-480a-81ae-087c1901a65e\">\n",
              "    <div class=\"colab-df-container\">\n",
              "      <div>\n",
              "<style scoped>\n",
              "    .dataframe tbody tr th:only-of-type {\n",
              "        vertical-align: middle;\n",
              "    }\n",
              "\n",
              "    .dataframe tbody tr th {\n",
              "        vertical-align: top;\n",
              "    }\n",
              "\n",
              "    .dataframe thead th {\n",
              "        text-align: right;\n",
              "    }\n",
              "</style>\n",
              "<table border=\"1\" class=\"dataframe\">\n",
              "  <thead>\n",
              "    <tr style=\"text-align: right;\">\n",
              "      <th></th>\n",
              "      <th>Open</th>\n",
              "      <th>High</th>\n",
              "      <th>Low</th>\n",
              "      <th>Close</th>\n",
              "      <th>Adj Close</th>\n",
              "      <th>Volume</th>\n",
              "      <th>diff</th>\n",
              "    </tr>\n",
              "    <tr>\n",
              "      <th>Date</th>\n",
              "      <th></th>\n",
              "      <th></th>\n",
              "      <th></th>\n",
              "      <th></th>\n",
              "      <th></th>\n",
              "      <th></th>\n",
              "      <th></th>\n",
              "    </tr>\n",
              "  </thead>\n",
              "  <tbody>\n",
              "    <tr>\n",
              "      <th>1996-01-01</th>\n",
              "      <td>3.030</td>\n",
              "      <td>3.030000</td>\n",
              "      <td>2.925000</td>\n",
              "      <td>2.980000</td>\n",
              "      <td>2.389957</td>\n",
              "      <td>350000</td>\n",
              "      <td>-1.650163</td>\n",
              "    </tr>\n",
              "    <tr>\n",
              "      <th>1996-01-02</th>\n",
              "      <td>2.980</td>\n",
              "      <td>3.025000</td>\n",
              "      <td>2.950000</td>\n",
              "      <td>2.975000</td>\n",
              "      <td>2.385947</td>\n",
              "      <td>412000</td>\n",
              "      <td>-0.167789</td>\n",
              "    </tr>\n",
              "    <tr>\n",
              "      <th>1996-01-03</th>\n",
              "      <td>2.975</td>\n",
              "      <td>2.995000</td>\n",
              "      <td>2.950000</td>\n",
              "      <td>2.985000</td>\n",
              "      <td>2.393967</td>\n",
              "      <td>284000</td>\n",
              "      <td>0.336134</td>\n",
              "    </tr>\n",
              "    <tr>\n",
              "      <th>1996-01-04</th>\n",
              "      <td>2.985</td>\n",
              "      <td>2.980000</td>\n",
              "      <td>2.940000</td>\n",
              "      <td>2.965000</td>\n",
              "      <td>2.377928</td>\n",
              "      <td>282000</td>\n",
              "      <td>-0.670016</td>\n",
              "    </tr>\n",
              "    <tr>\n",
              "      <th>1996-01-05</th>\n",
              "      <td>2.965</td>\n",
              "      <td>2.980000</td>\n",
              "      <td>2.950000</td>\n",
              "      <td>2.960000</td>\n",
              "      <td>2.373918</td>\n",
              "      <td>189000</td>\n",
              "      <td>-0.168630</td>\n",
              "    </tr>\n",
              "    <tr>\n",
              "      <th>...</th>\n",
              "      <td>...</td>\n",
              "      <td>...</td>\n",
              "      <td>...</td>\n",
              "      <td>...</td>\n",
              "      <td>...</td>\n",
              "      <td>...</td>\n",
              "      <td>...</td>\n",
              "    </tr>\n",
              "    <tr>\n",
              "      <th>2022-07-06</th>\n",
              "      <td>1348.000</td>\n",
              "      <td>1373.400024</td>\n",
              "      <td>1347.099976</td>\n",
              "      <td>1371.250000</td>\n",
              "      <td>1371.250000</td>\n",
              "      <td>7524539</td>\n",
              "      <td>1.724777</td>\n",
              "    </tr>\n",
              "    <tr>\n",
              "      <th>2022-07-07</th>\n",
              "      <td>1380.000</td>\n",
              "      <td>1398.000000</td>\n",
              "      <td>1374.449951</td>\n",
              "      <td>1395.800049</td>\n",
              "      <td>1395.800049</td>\n",
              "      <td>8871571</td>\n",
              "      <td>1.144931</td>\n",
              "    </tr>\n",
              "    <tr>\n",
              "      <th>2022-07-08</th>\n",
              "      <td>1410.000</td>\n",
              "      <td>1410.000000</td>\n",
              "      <td>1394.750000</td>\n",
              "      <td>1397.099976</td>\n",
              "      <td>1397.099976</td>\n",
              "      <td>6237015</td>\n",
              "      <td>-0.914895</td>\n",
              "    </tr>\n",
              "    <tr>\n",
              "      <th>2022-07-11</th>\n",
              "      <td>1394.000</td>\n",
              "      <td>1409.900024</td>\n",
              "      <td>1393.250000</td>\n",
              "      <td>1406.150024</td>\n",
              "      <td>1406.150024</td>\n",
              "      <td>3731416</td>\n",
              "      <td>0.871594</td>\n",
              "    </tr>\n",
              "    <tr>\n",
              "      <th>2022-07-12</th>\n",
              "      <td>1405.250</td>\n",
              "      <td>1405.250000</td>\n",
              "      <td>1389.400024</td>\n",
              "      <td>1391.800049</td>\n",
              "      <td>1391.800049</td>\n",
              "      <td>4938487</td>\n",
              "      <td>-0.957122</td>\n",
              "    </tr>\n",
              "  </tbody>\n",
              "</table>\n",
              "<p>6676 rows × 7 columns</p>\n",
              "</div>\n",
              "      <button class=\"colab-df-convert\" onclick=\"convertToInteractive('df-cbb40124-2f83-480a-81ae-087c1901a65e')\"\n",
              "              title=\"Convert this dataframe to an interactive table.\"\n",
              "              style=\"display:none;\">\n",
              "        \n",
              "  <svg xmlns=\"http://www.w3.org/2000/svg\" height=\"24px\"viewBox=\"0 0 24 24\"\n",
              "       width=\"24px\">\n",
              "    <path d=\"M0 0h24v24H0V0z\" fill=\"none\"/>\n",
              "    <path d=\"M18.56 5.44l.94 2.06.94-2.06 2.06-.94-2.06-.94-.94-2.06-.94 2.06-2.06.94zm-11 1L8.5 8.5l.94-2.06 2.06-.94-2.06-.94L8.5 2.5l-.94 2.06-2.06.94zm10 10l.94 2.06.94-2.06 2.06-.94-2.06-.94-.94-2.06-.94 2.06-2.06.94z\"/><path d=\"M17.41 7.96l-1.37-1.37c-.4-.4-.92-.59-1.43-.59-.52 0-1.04.2-1.43.59L10.3 9.45l-7.72 7.72c-.78.78-.78 2.05 0 2.83L4 21.41c.39.39.9.59 1.41.59.51 0 1.02-.2 1.41-.59l7.78-7.78 2.81-2.81c.8-.78.8-2.07 0-2.86zM5.41 20L4 18.59l7.72-7.72 1.47 1.35L5.41 20z\"/>\n",
              "  </svg>\n",
              "      </button>\n",
              "      \n",
              "  <style>\n",
              "    .colab-df-container {\n",
              "      display:flex;\n",
              "      flex-wrap:wrap;\n",
              "      gap: 12px;\n",
              "    }\n",
              "\n",
              "    .colab-df-convert {\n",
              "      background-color: #E8F0FE;\n",
              "      border: none;\n",
              "      border-radius: 50%;\n",
              "      cursor: pointer;\n",
              "      display: none;\n",
              "      fill: #1967D2;\n",
              "      height: 32px;\n",
              "      padding: 0 0 0 0;\n",
              "      width: 32px;\n",
              "    }\n",
              "\n",
              "    .colab-df-convert:hover {\n",
              "      background-color: #E2EBFA;\n",
              "      box-shadow: 0px 1px 2px rgba(60, 64, 67, 0.3), 0px 1px 3px 1px rgba(60, 64, 67, 0.15);\n",
              "      fill: #174EA6;\n",
              "    }\n",
              "\n",
              "    [theme=dark] .colab-df-convert {\n",
              "      background-color: #3B4455;\n",
              "      fill: #D2E3FC;\n",
              "    }\n",
              "\n",
              "    [theme=dark] .colab-df-convert:hover {\n",
              "      background-color: #434B5C;\n",
              "      box-shadow: 0px 1px 3px 1px rgba(0, 0, 0, 0.15);\n",
              "      filter: drop-shadow(0px 1px 2px rgba(0, 0, 0, 0.3));\n",
              "      fill: #FFFFFF;\n",
              "    }\n",
              "  </style>\n",
              "\n",
              "      <script>\n",
              "        const buttonEl =\n",
              "          document.querySelector('#df-cbb40124-2f83-480a-81ae-087c1901a65e button.colab-df-convert');\n",
              "        buttonEl.style.display =\n",
              "          google.colab.kernel.accessAllowed ? 'block' : 'none';\n",
              "\n",
              "        async function convertToInteractive(key) {\n",
              "          const element = document.querySelector('#df-cbb40124-2f83-480a-81ae-087c1901a65e');\n",
              "          const dataTable =\n",
              "            await google.colab.kernel.invokeFunction('convertToInteractive',\n",
              "                                                     [key], {});\n",
              "          if (!dataTable) return;\n",
              "\n",
              "          const docLinkHtml = 'Like what you see? Visit the ' +\n",
              "            '<a target=\"_blank\" href=https://colab.research.google.com/notebooks/data_table.ipynb>data table notebook</a>'\n",
              "            + ' to learn more about interactive tables.';\n",
              "          element.innerHTML = '';\n",
              "          dataTable['output_type'] = 'display_data';\n",
              "          await google.colab.output.renderOutput(dataTable, element);\n",
              "          const docLink = document.createElement('div');\n",
              "          docLink.innerHTML = docLinkHtml;\n",
              "          element.appendChild(docLink);\n",
              "        }\n",
              "      </script>\n",
              "    </div>\n",
              "  </div>\n",
              "  "
            ]
          },
          "metadata": {},
          "execution_count": 7
        }
      ]
    },
    {
      "cell_type": "markdown",
      "source": [
        "#Feature Selection"
      ],
      "metadata": {
        "id": "Di-SJEx6apgh"
      }
    },
    {
      "cell_type": "markdown",
      "source": [
        "##What aer the different features we can use, keep in mind we want to solve the problem of scaling and predict tomorrow's price"
      ],
      "metadata": {
        "id": "sv97KRiAauBE"
      }
    },
    {
      "cell_type": "markdown",
      "source": [
        "**So what is the problem with scaling using minmaxscaler or standard scaler on general problems? **\n",
        "\n",
        "-> If we fit the scaler on Nifty data which ranges from (4000 to 11000), the newer stock values when transformed will have very low values (less pattern similarity corresponding to only 20% of initial training dataset).\n",
        "\n",
        "\n",
        "**What if we use different scalers?**\n",
        "\n",
        "-> Even if we use different scalers,\n",
        "\n",
        "  -> There is a problem of data not being normalized. The patterns in the chart will range from 0-0.3 (for first 20% data) and so on, be divided into brackets.\n",
        "\n",
        "**So we conclude we need to normalize the data. As we are only using univariate feature, what do you propose? **\n",
        "\n",
        "-> I propose 2 solutions,\n",
        "  \n",
        "  -> Create batches using unscaled data. Then scale the data on the individual batches. Handling only a single feature makes this task simpler as we can create batches with the targets, scale them, and then seperate them. We have 2 options for scaling, 1 would be use a standard scaler but in that case, we would have to store all the scalers (equal to the number of batches). What we can do instead is scale it ourselves using mean and std dv and store these values in a dictionary against batch number so original value can be retrieved after transformation. I will try the standardscaling function to check the mse, in my opinion it should perform better and give a lower mse value."
      ],
      "metadata": {
        "id": "Fs0yW7osa0l0"
      }
    },
    {
      "cell_type": "code",
      "source": [
        "plt.plot(df['Close'])\n",
        "plt.show()\n",
        "plt.plot(df['Open'])\n",
        "plt.show()"
      ],
      "metadata": {
        "colab": {
          "base_uri": "https://localhost:8080/",
          "height": 844
        },
        "id": "C4LN5mVPaoeb",
        "outputId": "2922e540-07bb-484f-eba1-7d7fa9bdb27c"
      },
      "execution_count": null,
      "outputs": [
        {
          "output_type": "display_data",
          "data": {
            "text/plain": [
              "<Figure size 640x480 with 1 Axes>"
            ],
            "image/png": "[encoded data removed]"
          },
          "metadata": {}
        },
        {
          "output_type": "display_data",
          "data": {
            "text/plain": [
              "<Figure size 640x480 with 1 Axes>"
            ],
            "image/png": "[encoded data removed]"
          },
          "metadata": {}
        }
      ]
    },
    {
      "cell_type": "markdown",
      "source": [
        "#Use 3 features, Open, Close and diff\n"
      ],
      "metadata": {
        "id": "OO4QzRbhdL-R"
      }
    },
    {
      "cell_type": "markdown",
      "source": [
        "##Create Targets and scale the data"
      ],
      "metadata": {
        "id": "xBYD_fNOfznX"
      }
    },
    {
      "cell_type": "markdown",
      "source": [
        "The target is going to be next day's closing price. The batches will be create accordingly."
      ],
      "metadata": {
        "id": "E5auligPfznX"
      }
    },
    {
      "cell_type": "code",
      "source": [
        "df['diff'] = np.where(df['diff']>5, 5, df['diff'])\n",
        "df['diff'] = np.where(df['diff']<-5, -5, df['diff'])\n",
        "plt.plot(df['diff'])"
      ],
      "metadata": {
        "colab": {
          "base_uri": "https://localhost:8080/",
          "height": 448
        },
        "outputId": "f656edfe-0ea1-4fb7-a9bf-124dcd17650f",
        "id": "CcBw8QXxfznX"
      },
      "execution_count": null,
      "outputs": [
        {
          "output_type": "execute_result",
          "data": {
            "text/plain": [
              "[<matplotlib.lines.Line2D at 0x7f15b8c03c70>]"
            ]
          },
          "metadata": {},
          "execution_count": 9
        },
        {
          "output_type": "display_data",
          "data": {
            "text/plain": [
              "<Figure size 640x480 with 1 Axes>"
            ],
            "image/png": "[encoded data removed]"
          },
          "metadata": {}
        }
      ]
    },
    {
      "cell_type": "code",
      "source": [
        "feature = np.array(df[['Open', 'Close', 'diff']])\n",
        "\n",
        "print(feature.shape)\n",
        "\n",
        "import math\n",
        "\n",
        "training_data_len = math.ceil(feature.shape[0] *0.8)\n",
        "print(training_data_len)\n",
        "training_data = feature[:training_data_len]\n",
        "testing_data = feature[training_data_len:]\n",
        "print(training_data.shape, testing_data.shape)"
      ],
      "metadata": {
        "colab": {
          "base_uri": "https://localhost:8080/"
        },
        "outputId": "66323e54-1176-4b10-8f79-c6d5ccc155a8",
        "id": "DXNnd2oIfznY"
      },
      "execution_count": null,
      "outputs": [
        {
          "output_type": "stream",
          "name": "stdout",
          "text": [
            "(6676, 3)\n",
            "5341\n",
            "(5341, 3) (1335, 3)\n"
          ]
        }
      ]
    },
    {
      "cell_type": "code",
      "source": [
        "training_data[:32]"
      ],
      "metadata": {
        "colab": {
          "base_uri": "https://localhost:8080/"
        },
        "id": "T5E3hHdBgrFu",
        "outputId": "654cbdd1-883c-45a0-c25a-9f0dec3209b2"
      },
      "execution_count": null,
      "outputs": [
        {
          "output_type": "execute_result",
          "data": {
            "text/plain": [
              "array([[ 3.02999997,  2.98000002, -1.65016346],\n",
              "       [ 2.98000002,  2.9749999 , -0.16778907],\n",
              "       [ 2.9749999 ,  2.9849999 ,  0.33613414],\n",
              "       [ 2.9849999 ,  2.96499991, -0.67001613],\n",
              "       [ 2.96499991,  2.96000004, -0.16862989],\n",
              "       [ 2.96000004,  2.92499995, -1.18243532],\n",
              "       [ 2.92499995,  2.82999992, -3.24786428],\n",
              "       [ 2.82999992,  2.83999991,  0.35335656],\n",
              "       [ 2.83999991,  2.82999992, -0.35211235],\n",
              "       [ 2.82999992,  2.82500005, -0.17667407],\n",
              "       [ 2.82500005,  2.78999996, -1.23894107],\n",
              "       [ 2.78999996,  2.74000001, -1.79211301],\n",
              "       [ 2.74000001,  2.65499997, -3.10219116],\n",
              "       [ 2.65499997,  2.6400001 , -0.56496673],\n",
              "       [ 2.6400001 ,  2.55500007, -3.21969829],\n",
              "       [ 2.55500007,  2.54500008, -0.39138905],\n",
              "       [ 2.54500008,  2.52999997, -0.58939507],\n",
              "       [ 2.52999997,  2.46499991, -2.56917225],\n",
              "       [ 2.46499991,  2.43499994, -1.21703742],\n",
              "       [ 2.43499994,  2.43499994,  0.        ],\n",
              "       [ 2.43499994,  2.4849999 ,  2.05338618],\n",
              "       [ 2.4849999 ,  2.51999998,  1.40845422],\n",
              "       [ 2.51999998,  2.58999991,  2.77777515],\n",
              "       [ 2.58999991,  2.77999997,  5.        ],\n",
              "       [ 2.77999997,  2.91499996,  4.85611481],\n",
              "       [ 2.91499996,  2.99499989,  2.7444228 ],\n",
              "       [ 2.99499989,  2.9749999 , -0.66777902],\n",
              "       [ 2.9749999 ,  2.86500001, -3.69747558],\n",
              "       [ 2.86500001,  3.04500008,  5.        ],\n",
              "       [ 3.04500008,  3.6500001 ,  5.        ],\n",
              "       [ 3.6500001 ,  3.50999999, -3.83561921],\n",
              "       [ 3.5999999 ,  3.45000005, -4.1666628 ]])"
            ]
          },
          "metadata": {},
          "execution_count": 11
        }
      ]
    },
    {
      "cell_type": "code",
      "source": [
        "batches_training = []\n",
        "targets_training = []\n",
        "diff_batches_training = []\n",
        "\n",
        "for i in range(30,len(training_data)):\n",
        "    buffer_array = list(training_data[i-30:i,:-1])\n",
        "    targets_training.append(training_data[i][0])\n",
        "    batches_training.append(buffer_array)\n",
        "    diff_batches_training.append(list(training_data[i-30:i, -1]))\n",
        "\n",
        "print(np.array(batches_training).shape, np.array(targets_training).shape, np.array(diff_batches_training).shape)"
      ],
      "metadata": {
        "colab": {
          "base_uri": "https://localhost:8080/"
        },
        "outputId": "bd4a6202-e811-4ee0-db13-ff0cf80063ff",
        "id": "Fjd3bk1_fznY"
      },
      "execution_count": null,
      "outputs": [
        {
          "output_type": "stream",
          "name": "stdout",
          "text": [
            "(5311, 30, 2) (5311,) (5311, 30)\n"
          ]
        }
      ]
    },
    {
      "cell_type": "code",
      "source": [
        "#Define batch scaling function\n",
        "scaled_training_data = []\n",
        "scaled_training_targets = []\n",
        "scaled_diff_data = []\n",
        "\n",
        "def scale(x, buffer_target):\n",
        "  seq_x = np.array(x)\n",
        "  max_x = np.amax(seq_x)\n",
        "  min_x = np.amin(seq_x)\n",
        "  new_seq = []\n",
        "  for j in seq_x:\n",
        "    buffer_seq = []\n",
        "    for k in j:\n",
        "      new_k = (k-min_x)/(max_x-min_x)\n",
        "      buffer_seq.append(new_k)\n",
        "    new_seq.append(buffer_seq)\n",
        "  scaled_target = (buffer_target-min_x)/(max_x-min_x)\n",
        "  return new_seq, scaled_target\n",
        "\n",
        "def scale_vol(x):\n",
        "  return x\n",
        "\n",
        "for i in range(0, len(batches_training)):\n",
        "  seq = batches_training[i]\n",
        "  buffer_target = targets_training[i]\n",
        "  diff_seq = diff_batches_training[i]\n",
        "  new_seq, scaled_target = scale(seq, buffer_target)\n",
        "  new_vol_seq = scale_vol(diff_seq)\n",
        "  scaled_training_data.append(new_seq)\n",
        "  scaled_training_targets.append(scaled_target)\n",
        "  scaled_diff_data.append(diff_seq)\n",
        "\n",
        "\n",
        "\n",
        "print(np.array(scaled_training_data).shape, np.array(scaled_training_targets).shape, np.array(scaled_diff_data).shape)"
      ],
      "metadata": {
        "colab": {
          "base_uri": "https://localhost:8080/"
        },
        "outputId": "1468335f-b0c4-4c1d-f503-9bf7106d8493",
        "id": "u6fZJjN3fznY"
      },
      "execution_count": null,
      "outputs": [
        {
          "output_type": "stream",
          "name": "stdout",
          "text": [
            "(5311, 30, 2) (5311,) (5311, 30)\n"
          ]
        }
      ]
    },
    {
      "cell_type": "code",
      "source": [
        "x_train = []\n",
        "for i in range(0, len(scaled_training_data)):\n",
        "  seq = list(scaled_training_data[i])\n",
        "  vol_seq = list(scaled_diff_data[i])\n",
        "  buffer_arr = []\n",
        "  for j in range(0, len(seq)):\n",
        "    buffer_seq = list(seq[j])\n",
        "    buffer_seq.append(vol_seq[j])\n",
        "    buffer_arr.append(buffer_seq)\n",
        "  x_train.append(buffer_arr)\n",
        "\n",
        "x_train = np.array(x_train)\n",
        "y_train = np.array(scaled_training_targets)\n",
        "print(x_train.shape, y_train.shape)"
      ],
      "metadata": {
        "colab": {
          "base_uri": "https://localhost:8080/"
        },
        "id": "Qx-poAfDi4Vt",
        "outputId": "140fb9fd-f613-40cc-c465-65918f1860c5"
      },
      "execution_count": null,
      "outputs": [
        {
          "output_type": "stream",
          "name": "stdout",
          "text": [
            "(5311, 30, 3) (5311,)\n"
          ]
        }
      ]
    },
    {
      "cell_type": "code",
      "source": [
        "plt.plot(pd.DataFrame(diff_batches_training[0]))\n",
        "plt.show()\n",
        "plt.plot(pd.DataFrame(scaled_diff_data[0]))\n",
        "plt.show()"
      ],
      "metadata": {
        "colab": {
          "base_uri": "https://localhost:8080/",
          "height": 843
        },
        "outputId": "8c53422d-e873-48c0-8337-73512511f58f",
        "id": "KLbuiVZLfznY"
      },
      "execution_count": null,
      "outputs": [
        {
          "output_type": "display_data",
          "data": {
            "text/plain": [
              "<Figure size 640x480 with 1 Axes>"
            ],
            "image/png": "[encoded data removed]"
          },
          "metadata": {}
        },
        {
          "output_type": "display_data",
          "data": {
            "text/plain": [
              "<Figure size 640x480 with 1 Axes>"
            ],
            "image/png": "[encoded data removed]"
          },
          "metadata": {}
        }
      ]
    },
    {
      "cell_type": "markdown",
      "source": [
        "##Model Architecture"
      ],
      "metadata": {
        "id": "HFI4rza1j0Y3"
      }
    },
    {
      "cell_type": "code",
      "source": [
        "model = Sequential()\n",
        "model.add(LSTM(units=50, return_sequences=True))\n",
        "model.add(LSTM(units=50, return_sequences=False))\n",
        "model.add(Dense(units=25))\n",
        "model.add(Dense(units=1))\n",
        "\n",
        "model.compile(optimizer='adam', loss='mean_squared_error')\n",
        "## epochs = 9\n",
        "history = model.fit(x_train, y_train, batch_size=256, epochs=40, validation_split=0.2)"
      ],
      "metadata": {
        "colab": {
          "base_uri": "https://localhost:8080/"
        },
        "outputId": "b84aa06e-6358-400a-ab32-3721ff935487",
        "id": "lGyZ706Jj0Y3"
      },
      "execution_count": null,
      "outputs": [
        {
          "output_type": "stream",
          "name": "stdout",
          "text": [
            "Epoch 1/40\n",
            "17/17 [==============================] - 16s 359ms/step - loss: 0.0989 - val_loss: 0.0477\n",
            "Epoch 2/40\n",
            "17/17 [==============================] - 4s 228ms/step - loss: 0.0426 - val_loss: 0.0375\n",
            "Epoch 3/40\n",
            "17/17 [==============================] - 6s 351ms/step - loss: 0.0350 - val_loss: 0.0291\n",
            "Epoch 4/40\n",
            "17/17 [==============================] - 4s 257ms/step - loss: 0.0301 - val_loss: 0.0248\n",
            "Epoch 5/40\n",
            "17/17 [==============================] - 3s 190ms/step - loss: 0.0265 - val_loss: 0.0211\n",
            "Epoch 6/40\n",
            "17/17 [==============================] - 5s 278ms/step - loss: 0.0240 - val_loss: 0.0194\n",
            "Epoch 7/40\n",
            "17/17 [==============================] - 3s 185ms/step - loss: 0.0225 - val_loss: 0.0176\n",
            "Epoch 8/40\n",
            "17/17 [==============================] - 2s 109ms/step - loss: 0.0210 - val_loss: 0.0168\n",
            "Epoch 9/40\n",
            "17/17 [==============================] - 3s 158ms/step - loss: 0.0198 - val_loss: 0.0154\n",
            "Epoch 10/40\n",
            "17/17 [==============================] - 2s 145ms/step - loss: 0.0185 - val_loss: 0.0152\n",
            "Epoch 11/40\n",
            "17/17 [==============================] - 4s 267ms/step - loss: 0.0181 - val_loss: 0.0134\n",
            "Epoch 12/40\n",
            "17/17 [==============================] - 3s 173ms/step - loss: 0.0167 - val_loss: 0.0126\n",
            "Epoch 13/40\n",
            "17/17 [==============================] - 2s 109ms/step - loss: 0.0160 - val_loss: 0.0117\n",
            "Epoch 14/40\n",
            "17/17 [==============================] - 2s 109ms/step - loss: 0.0153 - val_loss: 0.0116\n",
            "Epoch 15/40\n",
            "17/17 [==============================] - 2s 112ms/step - loss: 0.0142 - val_loss: 0.0098\n",
            "Epoch 16/40\n",
            "17/17 [==============================] - 3s 189ms/step - loss: 0.0131 - val_loss: 0.0090\n",
            "Epoch 17/40\n",
            "17/17 [==============================] - 2s 114ms/step - loss: 0.0132 - val_loss: 0.0080\n",
            "Epoch 18/40\n",
            "17/17 [==============================] - 2s 111ms/step - loss: 0.0119 - val_loss: 0.0072\n",
            "Epoch 19/40\n",
            "17/17 [==============================] - 2s 111ms/step - loss: 0.0117 - val_loss: 0.0069\n",
            "Epoch 20/40\n",
            "17/17 [==============================] - 2s 114ms/step - loss: 0.0109 - val_loss: 0.0068\n",
            "Epoch 21/40\n",
            "17/17 [==============================] - 2s 112ms/step - loss: 0.0117 - val_loss: 0.0064\n",
            "Epoch 22/40\n",
            "17/17 [==============================] - 4s 216ms/step - loss: 0.0106 - val_loss: 0.0062\n",
            "Epoch 23/40\n",
            "17/17 [==============================] - 3s 195ms/step - loss: 0.0116 - val_loss: 0.0068\n",
            "Epoch 24/40\n",
            "17/17 [==============================] - 2s 113ms/step - loss: 0.0104 - val_loss: 0.0066\n",
            "Epoch 25/40\n",
            "17/17 [==============================] - 2s 113ms/step - loss: 0.0104 - val_loss: 0.0066\n",
            "Epoch 26/40\n",
            "17/17 [==============================] - 2s 111ms/step - loss: 0.0107 - val_loss: 0.0065\n",
            "Epoch 27/40\n",
            "17/17 [==============================] - 2s 145ms/step - loss: 0.0102 - val_loss: 0.0058\n",
            "Epoch 28/40\n",
            "17/17 [==============================] - 3s 163ms/step - loss: 0.0101 - val_loss: 0.0063\n",
            "Epoch 29/40\n",
            "17/17 [==============================] - 2s 111ms/step - loss: 0.0101 - val_loss: 0.0059\n",
            "Epoch 30/40\n",
            "17/17 [==============================] - 2s 111ms/step - loss: 0.0102 - val_loss: 0.0073\n",
            "Epoch 31/40\n",
            "17/17 [==============================] - 2s 113ms/step - loss: 0.0104 - val_loss: 0.0058\n",
            "Epoch 32/40\n",
            "17/17 [==============================] - 2s 110ms/step - loss: 0.0100 - val_loss: 0.0058\n",
            "Epoch 33/40\n",
            "17/17 [==============================] - 2s 129ms/step - loss: 0.0103 - val_loss: 0.0057\n",
            "Epoch 34/40\n",
            "17/17 [==============================] - 3s 176ms/step - loss: 0.0099 - val_loss: 0.0056\n",
            "Epoch 35/40\n",
            "17/17 [==============================] - 2s 111ms/step - loss: 0.0101 - val_loss: 0.0060\n",
            "Epoch 36/40\n",
            "17/17 [==============================] - 2s 111ms/step - loss: 0.0101 - val_loss: 0.0059\n",
            "Epoch 37/40\n",
            "17/17 [==============================] - 2s 113ms/step - loss: 0.0102 - val_loss: 0.0079\n",
            "Epoch 38/40\n",
            "17/17 [==============================] - 2s 111ms/step - loss: 0.0105 - val_loss: 0.0059\n",
            "Epoch 39/40\n",
            "17/17 [==============================] - 2s 118ms/step - loss: 0.0098 - val_loss: 0.0062\n",
            "Epoch 40/40\n",
            "17/17 [==============================] - 3s 191ms/step - loss: 0.0099 - val_loss: 0.0057\n"
          ]
        }
      ]
    },
    {
      "cell_type": "code",
      "source": [
        "plt.plot(history.history['loss'])\n",
        "plt.plot(history.history['val_loss'])\n",
        "plt.show()"
      ],
      "metadata": {
        "colab": {
          "base_uri": "https://localhost:8080/"
        },
        "outputId": "507b0973-93b7-4198-c5ae-42d054dd2754",
        "id": "YkZRqfzlj0Y4"
      },
      "execution_count": null,
      "outputs": [
        {
          "output_type": "display_data",
          "data": {
            "text/plain": [
              "<Figure size 640x480 with 1 Axes>"
            ],
            "image/png": "[encoded data removed]"
          },
          "metadata": {}
        }
      ]
    },
    {
      "cell_type": "markdown",
      "source": [
        "##Creating testing batches"
      ],
      "metadata": {
        "id": "5L_z4QgIkNa8"
      }
    },
    {
      "cell_type": "code",
      "source": [
        "batches_testing = []\n",
        "targets_testing = []\n",
        "vol_batches_testing = []\n",
        "\n",
        "for i in range(30,len(testing_data)):\n",
        "    buffer_array = list(testing_data[i-30:i,:-1])\n",
        "    targets_testing.append(testing_data[i][0])\n",
        "    batches_testing.append(buffer_array)\n",
        "    vol_batches_testing.append(list(testing_data[i-30:i, -1]))\n",
        "\n",
        "print(np.array(batches_testing).shape, np.array(targets_testing).shape, np.array(vol_batches_testing).shape)\n"
      ],
      "metadata": {
        "colab": {
          "base_uri": "https://localhost:8080/"
        },
        "outputId": "b2222a29-6d2a-4bdc-e307-ae3f76152ce4",
        "id": "at4wDYh3kNa8"
      },
      "execution_count": null,
      "outputs": [
        {
          "output_type": "stream",
          "name": "stdout",
          "text": [
            "(1305, 30, 2) (1305,) (1305, 30)\n"
          ]
        }
      ]
    },
    {
      "cell_type": "code",
      "source": [
        "#Define batch scaling function\n",
        "scaled_testing_data = []\n",
        "scaled_testing_targets = []\n",
        "scaled_testing_volume_data = []\n",
        "\n",
        "scaling_dict = {}\n",
        "def inverse_scale_data(x, min_x, max_x):\n",
        "  orig_seq = []\n",
        "  for j in x:\n",
        "    buffer_array = []\n",
        "    for k in j:\n",
        "      orig_k = k*(max_x-min_x) + min_x\n",
        "      buffer_array.append(orig_k)\n",
        "    orig_seq.append(buffer_array)\n",
        "  return orig_seq\n",
        "\n",
        "def inverse_scale_target(x, min_x, max_x):\n",
        "  orig_x = x*(max_x-min_x) + min_x\n",
        "  return orig_x\n",
        "\n",
        "def scale_vol(x):\n",
        "  return x\n",
        "\n",
        "def scale(x, buffer_target,i):\n",
        "  seq_x = np.array(x)\n",
        "  max_x = np.amax(seq_x)\n",
        "  min_x = np.amin(seq_x)\n",
        "  scaling_dict[i] = (min_x, max_x)\n",
        "  new_seq = []\n",
        "  for j in seq_x:\n",
        "    buffer_seq = []\n",
        "    for k in j:\n",
        "      new_k = (k-min_x)/(max_x-min_x)\n",
        "      buffer_seq.append(new_k)\n",
        "    new_seq.append(buffer_seq)\n",
        "  scaled_target = (buffer_target-min_x)/(max_x-min_x)\n",
        "  return new_seq, scaled_target\n",
        "\n",
        "\n",
        "for i in range(0, len(batches_testing)):\n",
        "  seq = batches_testing[i]\n",
        "  buffer_target = targets_testing[i]\n",
        "  vol_seq = vol_batches_testing[i]\n",
        "  new_vol_seq = scale_vol(vol_seq)\n",
        "  new_seq, scaled_target = scale(seq, buffer_target, i)\n",
        "  scaled_testing_data.append(new_seq)\n",
        "  scaled_testing_targets.append(scaled_target)\n",
        "  scaled_testing_volume_data.append(new_vol_seq)\n",
        "\n",
        "print(np.array(scaled_testing_data).shape, np.array(scaled_testing_targets).shape, np.array(scaled_testing_volume_data).shape)"
      ],
      "metadata": {
        "colab": {
          "base_uri": "https://localhost:8080/"
        },
        "outputId": "299a5b34-1d32-49ff-aab9-edb4fbbfa824",
        "id": "vlIpcbfPkNa8"
      },
      "execution_count": null,
      "outputs": [
        {
          "output_type": "stream",
          "name": "stdout",
          "text": [
            "(1305, 30, 2) (1305,) (1305, 30)\n"
          ]
        }
      ]
    },
    {
      "cell_type": "code",
      "source": [
        "len(scaling_dict.keys())"
      ],
      "metadata": {
        "colab": {
          "base_uri": "https://localhost:8080/"
        },
        "outputId": "7af18ec5-79b1-46af-f65b-a7e84251e1fe",
        "id": "0146cLgtkNa8"
      },
      "execution_count": null,
      "outputs": [
        {
          "output_type": "execute_result",
          "data": {
            "text/plain": [
              "1305"
            ]
          },
          "metadata": {},
          "execution_count": 20
        }
      ]
    },
    {
      "cell_type": "code",
      "source": [
        "x_test = []\n",
        "for i in range(0, len(scaled_testing_data)):\n",
        "  seq = list(scaled_testing_data[i])\n",
        "  vol_seq = list(scaled_testing_volume_data[i])\n",
        "  buffer_arr = []\n",
        "  for j in range(0, len(seq)):\n",
        "    buffer_seq = list(seq[j])\n",
        "    buffer_seq.append(vol_seq[j])\n",
        "    buffer_arr.append(buffer_seq)\n",
        "  x_test.append(buffer_arr)\n",
        "\n",
        "x_test = np.array(x_test)\n",
        "y_test = np.array(scaled_testing_targets)\n",
        "print(x_test.shape, y_test.shape)"
      ],
      "metadata": {
        "colab": {
          "base_uri": "https://localhost:8080/"
        },
        "outputId": "2a3594d6-4820-43bf-dfdd-eb709334e6d1",
        "id": "jUDFz7i9kNa9"
      },
      "execution_count": null,
      "outputs": [
        {
          "output_type": "stream",
          "name": "stdout",
          "text": [
            "(1305, 30, 3) (1305,)\n"
          ]
        }
      ]
    },
    {
      "cell_type": "markdown",
      "source": [
        "##Testing"
      ],
      "metadata": {
        "id": "XruS8nRYlqVq"
      }
    },
    {
      "cell_type": "code",
      "source": [
        "model.evaluate(x_test, y_test)"
      ],
      "metadata": {
        "colab": {
          "base_uri": "https://localhost:8080/"
        },
        "outputId": "d7c2485c-7697-4f33-edaf-104587f5f546",
        "id": "v2W_jNhalqVq"
      },
      "execution_count": null,
      "outputs": [
        {
          "output_type": "stream",
          "name": "stdout",
          "text": [
            "41/41 [==============================] - 0s 10ms/step - loss: 0.0072\n"
          ]
        },
        {
          "output_type": "execute_result",
          "data": {
            "text/plain": [
              "0.00719978054985404"
            ]
          },
          "metadata": {},
          "execution_count": 22
        }
      ]
    },
    {
      "cell_type": "code",
      "source": [
        "prediction_list = model.predict(x_test)"
      ],
      "metadata": {
        "colab": {
          "base_uri": "https://localhost:8080/"
        },
        "outputId": "ddef1538-e1cb-41eb-c5f5-c367f5aae85d",
        "id": "xvpekHuBlqVr"
      },
      "execution_count": null,
      "outputs": [
        {
          "output_type": "stream",
          "name": "stdout",
          "text": [
            "41/41 [==============================] - 1s 9ms/step\n"
          ]
        }
      ]
    },
    {
      "cell_type": "code",
      "source": [
        "transformed_prediction_list = []\n",
        "\n",
        "for i in range(0,len(prediction_list)):\n",
        "    dict_values = list(scaling_dict[i])\n",
        "    or_seq = inverse_scale_target(prediction_list[i], dict_values[0], dict_values[1])\n",
        "    transformed_prediction_list.append(or_seq)"
      ],
      "metadata": {
        "id": "V5O_-WXHlqVr"
      },
      "execution_count": null,
      "outputs": []
    },
    {
      "cell_type": "code",
      "source": [
        "print(len(transformed_prediction_list), len(testing_data[30:]))\n",
        "plt.plot(transformed_prediction_list)\n",
        "plt.plot(pd.DataFrame(testing_data[30:])[0])"
      ],
      "metadata": {
        "colab": {
          "base_uri": "https://localhost:8080/"
        },
        "outputId": "d419d36f-39c2-4383-c585-8369b50585be",
        "id": "OOm5fzLIlqVr"
      },
      "execution_count": null,
      "outputs": [
        {
          "output_type": "stream",
          "name": "stdout",
          "text": [
            "1305 1305\n"
          ]
        },
        {
          "output_type": "execute_result",
          "data": {
            "text/plain": [
              "[<matplotlib.lines.Line2D at 0x7f15b97d7040>]"
            ]
          },
          "metadata": {},
          "execution_count": 25
        },
        {
          "output_type": "display_data",
          "data": {
            "text/plain": [
              "<Figure size 640x480 with 1 Axes>"
            ],
            "image/png": "[encoded data removed]"
          },
          "metadata": {}
        }
      ]
    },
    {
      "cell_type": "code",
      "source": [
        "transformed_prediction_list = np.array(transformed_prediction_list)\n",
        "testing_data_np = np.array(pd.DataFrame(testing_data[30:])[0])\n",
        "\n",
        "print(transformed_prediction_list.shape, testing_data_np.shape)\n",
        "error = 0\n",
        "for i in range(0,len(testing_data_np)):\n",
        "  buffer_error = math.sqrt((transformed_prediction_list[i] - testing_data_np[i])*(transformed_prediction_list[i] - testing_data_np[i]))\n",
        "  error += buffer_error\n",
        "\n",
        "base_stock_rmse = error/len(testing_data_np)\n",
        "print(\"Final rmse: \", error/len(testing_data_np))"
      ],
      "metadata": {
        "colab": {
          "base_uri": "https://localhost:8080/"
        },
        "outputId": "feee73fe-64f5-461b-b0e4-5b0934158a1d",
        "id": "HD_ze18NlqVr"
      },
      "execution_count": null,
      "outputs": [
        {
          "output_type": "stream",
          "name": "stdout",
          "text": [
            "(1305, 1) (1305,)\n",
            "Final rmse:  7.1118593440840305\n"
          ]
        }
      ]
    },
    {
      "cell_type": "markdown",
      "source": [
        "##Check how accurate regression is"
      ],
      "metadata": {
        "id": "XVLgtOlk2C38"
      }
    },
    {
      "cell_type": "code",
      "source": [
        "preds, actual_close = pd.DataFrame(np.array(transformed_prediction_list)), pd.DataFrame(np.array(testing_data[30:]))\n",
        "dataframe = pd.concat([preds, actual_close], axis=1)\n",
        "dataframe.columns = ['preds', 'actual open', 'actual close', 'difference']\n",
        "dataframe"
      ],
      "metadata": {
        "colab": {
          "base_uri": "https://localhost:8080/"
        },
        "id": "Itrdclb42C39",
        "outputId": "88eb8fb7-ad9d-449b-9011-36ed7fc7bb47"
      },
      "execution_count": null,
      "outputs": [
        {
          "output_type": "execute_result",
          "data": {
            "text/plain": [
              "            preds  actual open  actual close  difference\n",
              "0      722.453735   723.000000    716.599976   -0.885204\n",
              "1      717.440857   717.625000    716.174988   -0.202057\n",
              "2      716.529236   715.750000    719.250000    0.488998\n",
              "3      719.055115   715.525024    719.424988    0.545049\n",
              "4      719.358765   721.500000    717.075012   -0.613304\n",
              "...           ...          ...           ...         ...\n",
              "1300  1354.904175  1348.000000   1371.250000    1.724777\n",
              "1301  1373.143799  1380.000000   1395.800049    1.144931\n",
              "1302  1398.660278  1410.000000   1397.099976   -0.914895\n",
              "1303  1401.758789  1394.000000   1406.150024    0.871594\n",
              "1304  1406.578613  1405.250000   1391.800049   -0.957122\n",
              "\n",
              "[1305 rows x 4 columns]"
            ],
            "text/html": [
              "\n",
              "  <div id=\"df-32cf7b6b-93ae-4bf9-8822-f8b9450789ce\">\n",
              "    <div class=\"colab-df-container\">\n",
              "      <div>\n",
              "<style scoped>\n",
              "    .dataframe tbody tr th:only-of-type {\n",
              "        vertical-align: middle;\n",
              "    }\n",
              "\n",
              "    .dataframe tbody tr th {\n",
              "        vertical-align: top;\n",
              "    }\n",
              "\n",
              "    .dataframe thead th {\n",
              "        text-align: right;\n",
              "    }\n",
              "</style>\n",
              "<table border=\"1\" class=\"dataframe\">\n",
              "  <thead>\n",
              "    <tr style=\"text-align: right;\">\n",
              "      <th></th>\n",
              "      <th>preds</th>\n",
              "      <th>actual open</th>\n",
              "      <th>actual close</th>\n",
              "      <th>difference</th>\n",
              "    </tr>\n",
              "  </thead>\n",
              "  <tbody>\n",
              "    <tr>\n",
              "      <th>0</th>\n",
              "      <td>722.453735</td>\n",
              "      <td>723.000000</td>\n",
              "      <td>716.599976</td>\n",
              "      <td>-0.885204</td>\n",
              "    </tr>\n",
              "    <tr>\n",
              "      <th>1</th>\n",
              "      <td>717.440857</td>\n",
              "      <td>717.625000</td>\n",
              "      <td>716.174988</td>\n",
              "      <td>-0.202057</td>\n",
              "    </tr>\n",
              "    <tr>\n",
              "      <th>2</th>\n",
              "      <td>716.529236</td>\n",
              "      <td>715.750000</td>\n",
              "      <td>719.250000</td>\n",
              "      <td>0.488998</td>\n",
              "    </tr>\n",
              "    <tr>\n",
              "      <th>3</th>\n",
              "      <td>719.055115</td>\n",
              "      <td>715.525024</td>\n",
              "      <td>719.424988</td>\n",
              "      <td>0.545049</td>\n",
              "    </tr>\n",
              "    <tr>\n",
              "      <th>4</th>\n",
              "      <td>719.358765</td>\n",
              "      <td>721.500000</td>\n",
              "      <td>717.075012</td>\n",
              "      <td>-0.613304</td>\n",
              "    </tr>\n",
              "    <tr>\n",
              "      <th>...</th>\n",
              "      <td>...</td>\n",
              "      <td>...</td>\n",
              "      <td>...</td>\n",
              "      <td>...</td>\n",
              "    </tr>\n",
              "    <tr>\n",
              "      <th>1300</th>\n",
              "      <td>1354.904175</td>\n",
              "      <td>1348.000000</td>\n",
              "      <td>1371.250000</td>\n",
              "      <td>1.724777</td>\n",
              "    </tr>\n",
              "    <tr>\n",
              "      <th>1301</th>\n",
              "      <td>1373.143799</td>\n",
              "      <td>1380.000000</td>\n",
              "      <td>1395.800049</td>\n",
              "      <td>1.144931</td>\n",
              "    </tr>\n",
              "    <tr>\n",
              "      <th>1302</th>\n",
              "      <td>1398.660278</td>\n",
              "      <td>1410.000000</td>\n",
              "      <td>1397.099976</td>\n",
              "      <td>-0.914895</td>\n",
              "    </tr>\n",
              "    <tr>\n",
              "      <th>1303</th>\n",
              "      <td>1401.758789</td>\n",
              "      <td>1394.000000</td>\n",
              "      <td>1406.150024</td>\n",
              "      <td>0.871594</td>\n",
              "    </tr>\n",
              "    <tr>\n",
              "      <th>1304</th>\n",
              "      <td>1406.578613</td>\n",
              "      <td>1405.250000</td>\n",
              "      <td>1391.800049</td>\n",
              "      <td>-0.957122</td>\n",
              "    </tr>\n",
              "  </tbody>\n",
              "</table>\n",
              "<p>1305 rows × 4 columns</p>\n",
              "</div>\n",
              "      <button class=\"colab-df-convert\" onclick=\"convertToInteractive('df-32cf7b6b-93ae-4bf9-8822-f8b9450789ce')\"\n",
              "              title=\"Convert this dataframe to an interactive table.\"\n",
              "              style=\"display:none;\">\n",
              "        \n",
              "  <svg xmlns=\"http://www.w3.org/2000/svg\" height=\"24px\"viewBox=\"0 0 24 24\"\n",
              "       width=\"24px\">\n",
              "    <path d=\"M0 0h24v24H0V0z\" fill=\"none\"/>\n",
              "    <path d=\"M18.56 5.44l.94 2.06.94-2.06 2.06-.94-2.06-.94-.94-2.06-.94 2.06-2.06.94zm-11 1L8.5 8.5l.94-2.06 2.06-.94-2.06-.94L8.5 2.5l-.94 2.06-2.06.94zm10 10l.94 2.06.94-2.06 2.06-.94-2.06-.94-.94-2.06-.94 2.06-2.06.94z\"/><path d=\"M17.41 7.96l-1.37-1.37c-.4-.4-.92-.59-1.43-.59-.52 0-1.04.2-1.43.59L10.3 9.45l-7.72 7.72c-.78.78-.78 2.05 0 2.83L4 21.41c.39.39.9.59 1.41.59.51 0 1.02-.2 1.41-.59l7.78-7.78 2.81-2.81c.8-.78.8-2.07 0-2.86zM5.41 20L4 18.59l7.72-7.72 1.47 1.35L5.41 20z\"/>\n",
              "  </svg>\n",
              "      </button>\n",
              "      \n",
              "  <style>\n",
              "    .colab-df-container {\n",
              "      display:flex;\n",
              "      flex-wrap:wrap;\n",
              "      gap: 12px;\n",
              "    }\n",
              "\n",
              "    .colab-df-convert {\n",
              "      background-color: #E8F0FE;\n",
              "      border: none;\n",
              "      border-radius: 50%;\n",
              "      cursor: pointer;\n",
              "      display: none;\n",
              "      fill: #1967D2;\n",
              "      height: 32px;\n",
              "      padding: 0 0 0 0;\n",
              "      width: 32px;\n",
              "    }\n",
              "\n",
              "    .colab-df-convert:hover {\n",
              "      background-color: #E2EBFA;\n",
              "      box-shadow: 0px 1px 2px rgba(60, 64, 67, 0.3), 0px 1px 3px 1px rgba(60, 64, 67, 0.15);\n",
              "      fill: #174EA6;\n",
              "    }\n",
              "\n",
              "    [theme=dark] .colab-df-convert {\n",
              "      background-color: #3B4455;\n",
              "      fill: #D2E3FC;\n",
              "    }\n",
              "\n",
              "    [theme=dark] .colab-df-convert:hover {\n",
              "      background-color: #434B5C;\n",
              "      box-shadow: 0px 1px 3px 1px rgba(0, 0, 0, 0.15);\n",
              "      filter: drop-shadow(0px 1px 2px rgba(0, 0, 0, 0.3));\n",
              "      fill: #FFFFFF;\n",
              "    }\n",
              "  </style>\n",
              "\n",
              "      <script>\n",
              "        const buttonEl =\n",
              "          document.querySelector('#df-32cf7b6b-93ae-4bf9-8822-f8b9450789ce button.colab-df-convert');\n",
              "        buttonEl.style.display =\n",
              "          google.colab.kernel.accessAllowed ? 'block' : 'none';\n",
              "\n",
              "        async function convertToInteractive(key) {\n",
              "          const element = document.querySelector('#df-32cf7b6b-93ae-4bf9-8822-f8b9450789ce');\n",
              "          const dataTable =\n",
              "            await google.colab.kernel.invokeFunction('convertToInteractive',\n",
              "                                                     [key], {});\n",
              "          if (!dataTable) return;\n",
              "\n",
              "          const docLinkHtml = 'Like what you see? Visit the ' +\n",
              "            '<a target=\"_blank\" href=https://colab.research.google.com/notebooks/data_table.ipynb>data table notebook</a>'\n",
              "            + ' to learn more about interactive tables.';\n",
              "          element.innerHTML = '';\n",
              "          dataTable['output_type'] = 'display_data';\n",
              "          await google.colab.output.renderOutput(dataTable, element);\n",
              "          const docLink = document.createElement('div');\n",
              "          docLink.innerHTML = docLinkHtml;\n",
              "          element.appendChild(docLink);\n",
              "        }\n",
              "      </script>\n",
              "    </div>\n",
              "  </div>\n",
              "  "
            ]
          },
          "metadata": {},
          "execution_count": 27
        }
      ]
    },
    {
      "cell_type": "code",
      "source": [
        "fp = 0\n",
        "fn = 0\n",
        "tn = 0\n",
        "tp = 0\n",
        "\n",
        "for i in range(0, dataframe.shape[0]-1):\n",
        "    if dataframe.iloc[i+1][0] > dataframe.iloc[i][2] and dataframe.iloc[i+1][1]>dataframe.iloc[i][2]:\n",
        "        tp += 1\n",
        "    elif dataframe.iloc[i+1][0] > dataframe.iloc[i][2] and dataframe.iloc[i+1][1]<dataframe.iloc[i][2]:\n",
        "        fp += 1\n",
        "    elif dataframe.iloc[i+1][0] < dataframe.iloc[i][2] and dataframe.iloc[i+1][1]<dataframe.iloc[i][2]:\n",
        "        tn += 1\n",
        "    elif dataframe.iloc[i+1][0] < dataframe.iloc[i][2] and dataframe.iloc[i+1][1]>dataframe.iloc[i][2]:\n",
        "        fn += 1\n",
        "\n",
        "base_stock_matrix = (tp,fp,fn, tn)\n",
        "base_stock_accuracy = tp /(tp +fp )"
      ],
      "metadata": {
        "id": "PfoGUAG62C39"
      },
      "execution_count": null,
      "outputs": []
    },
    {
      "cell_type": "code",
      "source": [
        "print(tp,fp,fn, tn)"
      ],
      "metadata": {
        "colab": {
          "base_uri": "https://localhost:8080/"
        },
        "outputId": "873e829e-d015-43a3-f474-e34ceda069a1",
        "id": "MY00Pf5U2C39"
      },
      "execution_count": null,
      "outputs": [
        {
          "output_type": "stream",
          "name": "stdout",
          "text": [
            "619 426 137 99\n"
          ]
        }
      ]
    },
    {
      "cell_type": "code",
      "source": [
        "tp /(tp +fp )"
      ],
      "metadata": {
        "colab": {
          "base_uri": "https://localhost:8080/"
        },
        "outputId": "fa7aea23-3ae5-42d4-a528-466b17373f04",
        "id": "bxevUYeb2C39"
      },
      "execution_count": null,
      "outputs": [
        {
          "output_type": "execute_result",
          "data": {
            "text/plain": [
              "0.5923444976076555"
            ]
          },
          "metadata": {},
          "execution_count": 30
        }
      ]
    },
    {
      "cell_type": "code",
      "source": [],
      "metadata": {
        "id": "1irNv2UjmJpN"
      },
      "execution_count": null,
      "outputs": []
    },
    {
      "cell_type": "markdown",
      "source": [
        "##Testing on test_stock"
      ],
      "metadata": {
        "id": "n6_osI86mNRO"
      }
    },
    {
      "cell_type": "code",
      "source": [
        "df_IGL = pdr.get_data_yahoo(test_stock, start=\"1980-02-01\", end=\"2022-07-13\")\n",
        "\n",
        "df_IGL['diff'] = (df_IGL['Close'] - df_IGL['Open'])*100/df_IGL['Open']\n",
        "df_IGL"
      ],
      "metadata": {
        "colab": {
          "base_uri": "https://localhost:8080/"
        },
        "outputId": "af74b5af-6d78-4a94-c51d-61a06a53277f",
        "id": "k-lLfDjamNRP"
      },
      "execution_count": null,
      "outputs": [
        {
          "output_type": "stream",
          "name": "stdout",
          "text": [
            "\r[*********************100%***********************]  1 of 1 completed\n"
          ]
        },
        {
          "output_type": "execute_result",
          "data": {
            "text/plain": [
              "                  Open        High         Low       Close   Adj Close  \\\n",
              "Date                                                                     \n",
              "2002-07-01   25.418180   25.818180   24.818180   25.127272   18.183350   \n",
              "2002-07-02   25.454544   27.636362   25.236362   26.745455   19.354347   \n",
              "2002-07-03   26.727272   28.181818   26.645454   28.090908   20.327982   \n",
              "2002-07-04   28.181818   28.799999   27.036364   27.390909   19.821430   \n",
              "2002-07-05   27.090908   27.863636   26.945454   27.672728   20.025366   \n",
              "...                ...         ...         ...         ...         ...   \n",
              "2022-07-06  723.000000  731.900024  722.000000  725.950012  721.619568   \n",
              "2022-07-07  735.950012  744.000000  733.000000  742.000000  737.573853   \n",
              "2022-07-08  751.299988  757.500000  744.549988  755.700012  751.192139   \n",
              "2022-07-11  755.000000  771.549988  755.000000  769.500000  764.909790   \n",
              "2022-07-12  765.349976  767.450012  757.700012  759.900024  755.367065   \n",
              "\n",
              "              Volume      diff  \n",
              "Date                            \n",
              "2002-07-01   2047540 -1.144491  \n",
              "2002-07-02   5546354  5.071435  \n",
              "2002-07-03   5745267  5.102040  \n",
              "2002-07-04   3896601 -2.806451  \n",
              "2002-07-05   3261038  2.147656  \n",
              "...              ...       ...  \n",
              "2022-07-06  12163533  0.408024  \n",
              "2022-07-07  10374018  0.822065  \n",
              "2022-07-08   9797700  0.585655  \n",
              "2022-07-11  12440573  1.920530  \n",
              "2022-07-12  10219829 -0.712086  \n",
              "\n",
              "[4978 rows x 7 columns]"
            ],
            "text/html": [
              "\n",
              "  <div id=\"df-571fdc63-f3df-4a7a-80be-90e7e8730a61\">\n",
              "    <div class=\"colab-df-container\">\n",
              "      <div>\n",
              "<style scoped>\n",
              "    .dataframe tbody tr th:only-of-type {\n",
              "        vertical-align: middle;\n",
              "    }\n",
              "\n",
              "    .dataframe tbody tr th {\n",
              "        vertical-align: top;\n",
              "    }\n",
              "\n",
              "    .dataframe thead th {\n",
              "        text-align: right;\n",
              "    }\n",
              "</style>\n",
              "<table border=\"1\" class=\"dataframe\">\n",
              "  <thead>\n",
              "    <tr style=\"text-align: right;\">\n",
              "      <th></th>\n",
              "      <th>Open</th>\n",
              "      <th>High</th>\n",
              "      <th>Low</th>\n",
              "      <th>Close</th>\n",
              "      <th>Adj Close</th>\n",
              "      <th>Volume</th>\n",
              "      <th>diff</th>\n",
              "    </tr>\n",
              "    <tr>\n",
              "      <th>Date</th>\n",
              "      <th></th>\n",
              "      <th></th>\n",
              "      <th></th>\n",
              "      <th></th>\n",
              "      <th></th>\n",
              "      <th></th>\n",
              "      <th></th>\n",
              "    </tr>\n",
              "  </thead>\n",
              "  <tbody>\n",
              "    <tr>\n",
              "      <th>2002-07-01</th>\n",
              "      <td>25.418180</td>\n",
              "      <td>25.818180</td>\n",
              "      <td>24.818180</td>\n",
              "      <td>25.127272</td>\n",
              "      <td>18.183350</td>\n",
              "      <td>2047540</td>\n",
              "      <td>-1.144491</td>\n",
              "    </tr>\n",
              "    <tr>\n",
              "      <th>2002-07-02</th>\n",
              "      <td>25.454544</td>\n",
              "      <td>27.636362</td>\n",
              "      <td>25.236362</td>\n",
              "      <td>26.745455</td>\n",
              "      <td>19.354347</td>\n",
              "      <td>5546354</td>\n",
              "      <td>5.071435</td>\n",
              "    </tr>\n",
              "    <tr>\n",
              "      <th>2002-07-03</th>\n",
              "      <td>26.727272</td>\n",
              "      <td>28.181818</td>\n",
              "      <td>26.645454</td>\n",
              "      <td>28.090908</td>\n",
              "      <td>20.327982</td>\n",
              "      <td>5745267</td>\n",
              "      <td>5.102040</td>\n",
              "    </tr>\n",
              "    <tr>\n",
              "      <th>2002-07-04</th>\n",
              "      <td>28.181818</td>\n",
              "      <td>28.799999</td>\n",
              "      <td>27.036364</td>\n",
              "      <td>27.390909</td>\n",
              "      <td>19.821430</td>\n",
              "      <td>3896601</td>\n",
              "      <td>-2.806451</td>\n",
              "    </tr>\n",
              "    <tr>\n",
              "      <th>2002-07-05</th>\n",
              "      <td>27.090908</td>\n",
              "      <td>27.863636</td>\n",
              "      <td>26.945454</td>\n",
              "      <td>27.672728</td>\n",
              "      <td>20.025366</td>\n",
              "      <td>3261038</td>\n",
              "      <td>2.147656</td>\n",
              "    </tr>\n",
              "    <tr>\n",
              "      <th>...</th>\n",
              "      <td>...</td>\n",
              "      <td>...</td>\n",
              "      <td>...</td>\n",
              "      <td>...</td>\n",
              "      <td>...</td>\n",
              "      <td>...</td>\n",
              "      <td>...</td>\n",
              "    </tr>\n",
              "    <tr>\n",
              "      <th>2022-07-06</th>\n",
              "      <td>723.000000</td>\n",
              "      <td>731.900024</td>\n",
              "      <td>722.000000</td>\n",
              "      <td>725.950012</td>\n",
              "      <td>721.619568</td>\n",
              "      <td>12163533</td>\n",
              "      <td>0.408024</td>\n",
              "    </tr>\n",
              "    <tr>\n",
              "      <th>2022-07-07</th>\n",
              "      <td>735.950012</td>\n",
              "      <td>744.000000</td>\n",
              "      <td>733.000000</td>\n",
              "      <td>742.000000</td>\n",
              "      <td>737.573853</td>\n",
              "      <td>10374018</td>\n",
              "      <td>0.822065</td>\n",
              "    </tr>\n",
              "    <tr>\n",
              "      <th>2022-07-08</th>\n",
              "      <td>751.299988</td>\n",
              "      <td>757.500000</td>\n",
              "      <td>744.549988</td>\n",
              "      <td>755.700012</td>\n",
              "      <td>751.192139</td>\n",
              "      <td>9797700</td>\n",
              "      <td>0.585655</td>\n",
              "    </tr>\n",
              "    <tr>\n",
              "      <th>2022-07-11</th>\n",
              "      <td>755.000000</td>\n",
              "      <td>771.549988</td>\n",
              "      <td>755.000000</td>\n",
              "      <td>769.500000</td>\n",
              "      <td>764.909790</td>\n",
              "      <td>12440573</td>\n",
              "      <td>1.920530</td>\n",
              "    </tr>\n",
              "    <tr>\n",
              "      <th>2022-07-12</th>\n",
              "      <td>765.349976</td>\n",
              "      <td>767.450012</td>\n",
              "      <td>757.700012</td>\n",
              "      <td>759.900024</td>\n",
              "      <td>755.367065</td>\n",
              "      <td>10219829</td>\n",
              "      <td>-0.712086</td>\n",
              "    </tr>\n",
              "  </tbody>\n",
              "</table>\n",
              "<p>4978 rows × 7 columns</p>\n",
              "</div>\n",
              "      <button class=\"colab-df-convert\" onclick=\"convertToInteractive('df-571fdc63-f3df-4a7a-80be-90e7e8730a61')\"\n",
              "              title=\"Convert this dataframe to an interactive table.\"\n",
              "              style=\"display:none;\">\n",
              "        \n",
              "  <svg xmlns=\"http://www.w3.org/2000/svg\" height=\"24px\"viewBox=\"0 0 24 24\"\n",
              "       width=\"24px\">\n",
              "    <path d=\"M0 0h24v24H0V0z\" fill=\"none\"/>\n",
              "    <path d=\"M18.56 5.44l.94 2.06.94-2.06 2.06-.94-2.06-.94-.94-2.06-.94 2.06-2.06.94zm-11 1L8.5 8.5l.94-2.06 2.06-.94-2.06-.94L8.5 2.5l-.94 2.06-2.06.94zm10 10l.94 2.06.94-2.06 2.06-.94-2.06-.94-.94-2.06-.94 2.06-2.06.94z\"/><path d=\"M17.41 7.96l-1.37-1.37c-.4-.4-.92-.59-1.43-.59-.52 0-1.04.2-1.43.59L10.3 9.45l-7.72 7.72c-.78.78-.78 2.05 0 2.83L4 21.41c.39.39.9.59 1.41.59.51 0 1.02-.2 1.41-.59l7.78-7.78 2.81-2.81c.8-.78.8-2.07 0-2.86zM5.41 20L4 18.59l7.72-7.72 1.47 1.35L5.41 20z\"/>\n",
              "  </svg>\n",
              "      </button>\n",
              "      \n",
              "  <style>\n",
              "    .colab-df-container {\n",
              "      display:flex;\n",
              "      flex-wrap:wrap;\n",
              "      gap: 12px;\n",
              "    }\n",
              "\n",
              "    .colab-df-convert {\n",
              "      background-color: #E8F0FE;\n",
              "      border: none;\n",
              "      border-radius: 50%;\n",
              "      cursor: pointer;\n",
              "      display: none;\n",
              "      fill: #1967D2;\n",
              "      height: 32px;\n",
              "      padding: 0 0 0 0;\n",
              "      width: 32px;\n",
              "    }\n",
              "\n",
              "    .colab-df-convert:hover {\n",
              "      background-color: #E2EBFA;\n",
              "      box-shadow: 0px 1px 2px rgba(60, 64, 67, 0.3), 0px 1px 3px 1px rgba(60, 64, 67, 0.15);\n",
              "      fill: #174EA6;\n",
              "    }\n",
              "\n",
              "    [theme=dark] .colab-df-convert {\n",
              "      background-color: #3B4455;\n",
              "      fill: #D2E3FC;\n",
              "    }\n",
              "\n",
              "    [theme=dark] .colab-df-convert:hover {\n",
              "      background-color: #434B5C;\n",
              "      box-shadow: 0px 1px 3px 1px rgba(0, 0, 0, 0.15);\n",
              "      filter: drop-shadow(0px 1px 2px rgba(0, 0, 0, 0.3));\n",
              "      fill: #FFFFFF;\n",
              "    }\n",
              "  </style>\n",
              "\n",
              "      <script>\n",
              "        const buttonEl =\n",
              "          document.querySelector('#df-571fdc63-f3df-4a7a-80be-90e7e8730a61 button.colab-df-convert');\n",
              "        buttonEl.style.display =\n",
              "          google.colab.kernel.accessAllowed ? 'block' : 'none';\n",
              "\n",
              "        async function convertToInteractive(key) {\n",
              "          const element = document.querySelector('#df-571fdc63-f3df-4a7a-80be-90e7e8730a61');\n",
              "          const dataTable =\n",
              "            await google.colab.kernel.invokeFunction('convertToInteractive',\n",
              "                                                     [key], {});\n",
              "          if (!dataTable) return;\n",
              "\n",
              "          const docLinkHtml = 'Like what you see? Visit the ' +\n",
              "            '<a target=\"_blank\" href=https://colab.research.google.com/notebooks/data_table.ipynb>data table notebook</a>'\n",
              "            + ' to learn more about interactive tables.';\n",
              "          element.innerHTML = '';\n",
              "          dataTable['output_type'] = 'display_data';\n",
              "          await google.colab.output.renderOutput(dataTable, element);\n",
              "          const docLink = document.createElement('div');\n",
              "          docLink.innerHTML = docLinkHtml;\n",
              "          element.appendChild(docLink);\n",
              "        }\n",
              "      </script>\n",
              "    </div>\n",
              "  </div>\n",
              "  "
            ]
          },
          "metadata": {},
          "execution_count": 31
        }
      ]
    },
    {
      "cell_type": "code",
      "source": [
        "testing_data = np.array(df_IGL[['Open', 'Close', 'diff']])\n",
        "\n",
        "import math\n",
        "\n",
        "print(testing_data.shape)"
      ],
      "metadata": {
        "colab": {
          "base_uri": "https://localhost:8080/"
        },
        "outputId": "f8747bee-5e8a-4863-b0fc-589ca07f60e3",
        "id": "4aPcKj0cmNRP"
      },
      "execution_count": null,
      "outputs": [
        {
          "output_type": "stream",
          "name": "stdout",
          "text": [
            "(4978, 3)\n"
          ]
        }
      ]
    },
    {
      "cell_type": "code",
      "source": [
        "batches_testing = []\n",
        "targets_testing = []\n",
        "vol_batches_testing = []\n",
        "\n",
        "for i in range(30,len(testing_data)):\n",
        "    buffer_array = list(testing_data[i-30:i,:-1])\n",
        "    targets_testing.append(testing_data[i][0])\n",
        "    batches_testing.append(buffer_array)\n",
        "    vol_batches_testing.append(list(testing_data[i-30:i, -1]))\n",
        "\n",
        "print(np.array(batches_testing).shape, np.array(targets_testing).shape, np.array(vol_batches_testing).shape)\n"
      ],
      "metadata": {
        "colab": {
          "base_uri": "https://localhost:8080/"
        },
        "outputId": "bd8fad32-3d50-4d57-9600-9424d6fbf59f",
        "id": "swaf6mQRmNRP"
      },
      "execution_count": null,
      "outputs": [
        {
          "output_type": "stream",
          "name": "stdout",
          "text": [
            "(4948, 30, 2) (4948,) (4948, 30)\n"
          ]
        }
      ]
    },
    {
      "cell_type": "code",
      "source": [
        "#Define batch scaling function\n",
        "scaled_testing_data = []\n",
        "scaled_testing_targets = []\n",
        "scaled_testing_volume_data = []\n",
        "\n",
        "scaling_dict = {}\n",
        "def inverse_scale_data(x, min_x, max_x):\n",
        "  orig_seq = []\n",
        "  for j in x:\n",
        "    buffer_array = []\n",
        "    for k in j:\n",
        "      orig_k = k*(max_x-min_x) + min_x\n",
        "      buffer_array.append(orig_k)\n",
        "    orig_seq.append(buffer_array)\n",
        "  return orig_seq\n",
        "\n",
        "def inverse_scale_target(x, min_x, max_x):\n",
        "  orig_x = x*(max_x-min_x) + min_x\n",
        "  return orig_x\n",
        "\n",
        "def scale_vol(x):\n",
        "  return x\n",
        "\n",
        "def scale(x, buffer_target,i):\n",
        "  seq_x = np.array(x)\n",
        "  max_x = np.amax(seq_x)\n",
        "  min_x = np.amin(seq_x)\n",
        "  scaling_dict[i] = (min_x, max_x)\n",
        "  new_seq = []\n",
        "  for j in seq_x:\n",
        "    buffer_seq = []\n",
        "    for k in j:\n",
        "      new_k = (k-min_x)/(max_x-min_x)\n",
        "      buffer_seq.append(new_k)\n",
        "    new_seq.append(buffer_seq)\n",
        "  scaled_target = (buffer_target-min_x)/(max_x-min_x)\n",
        "  return new_seq, scaled_target\n",
        "\n",
        "\n",
        "for i in range(0, len(batches_testing)):\n",
        "  seq = batches_testing[i]\n",
        "  buffer_target = targets_testing[i]\n",
        "  vol_seq = vol_batches_testing[i]\n",
        "  new_vol_seq = scale_vol(vol_seq)\n",
        "  new_seq, scaled_target = scale(seq, buffer_target, i)\n",
        "  scaled_testing_data.append(new_seq)\n",
        "  scaled_testing_targets.append(scaled_target)\n",
        "  scaled_testing_volume_data.append(new_vol_seq)\n",
        "\n",
        "print(np.array(scaled_testing_data).shape, np.array(scaled_testing_targets).shape, np.array(scaled_testing_volume_data).shape)"
      ],
      "metadata": {
        "colab": {
          "base_uri": "https://localhost:8080/"
        },
        "outputId": "d6f1ff47-555d-4e04-8adc-1bf4b189f703",
        "id": "aXiT87vzmNRP"
      },
      "execution_count": null,
      "outputs": [
        {
          "output_type": "stream",
          "name": "stdout",
          "text": [
            "(4948, 30, 2) (4948,) (4948, 30)\n"
          ]
        }
      ]
    },
    {
      "cell_type": "code",
      "source": [
        "x_test = []\n",
        "for i in range(0, len(scaled_testing_data)):\n",
        "  seq = list(scaled_testing_data[i])\n",
        "  vol_seq = list(scaled_testing_volume_data[i])\n",
        "  buffer_arr = []\n",
        "  for j in range(0, len(seq)):\n",
        "    buffer_seq = list(seq[j])\n",
        "    buffer_seq.append(vol_seq[j])\n",
        "    buffer_arr.append(buffer_seq)\n",
        "  x_test.append(buffer_arr)\n",
        "\n",
        "x_test = np.array(x_test)\n",
        "y_test = np.array(scaled_testing_targets)\n",
        "print(x_train.shape, y_train.shape)"
      ],
      "metadata": {
        "colab": {
          "base_uri": "https://localhost:8080/"
        },
        "outputId": "bf97ef1a-2164-4ff8-ebbb-8325e765a2fa",
        "id": "sLvIWPs6mNRP"
      },
      "execution_count": null,
      "outputs": [
        {
          "output_type": "stream",
          "name": "stdout",
          "text": [
            "(5311, 30, 3) (5311,)\n"
          ]
        }
      ]
    },
    {
      "cell_type": "code",
      "source": [
        "model.evaluate(x_train, y_train)"
      ],
      "metadata": {
        "colab": {
          "base_uri": "https://localhost:8080/"
        },
        "id": "CL6UxIRmGbvR",
        "outputId": "623eb4a1-4875-4b28-c4e9-15c761fec63c"
      },
      "execution_count": null,
      "outputs": [
        {
          "output_type": "stream",
          "name": "stdout",
          "text": [
            "166/166 [==============================] - 2s 10ms/step - loss: 0.0090\n"
          ]
        },
        {
          "output_type": "execute_result",
          "data": {
            "text/plain": [
              "0.008971231058239937"
            ]
          },
          "metadata": {},
          "execution_count": 36
        }
      ]
    },
    {
      "cell_type": "code",
      "source": [
        "prediction_list = model.predict(x_test)\n"
      ],
      "metadata": {
        "colab": {
          "base_uri": "https://localhost:8080/"
        },
        "outputId": "d1671161-514f-474d-8b09-8378372dc51c",
        "id": "4dQrqnoimNRP"
      },
      "execution_count": null,
      "outputs": [
        {
          "output_type": "stream",
          "name": "stdout",
          "text": [
            "155/155 [==============================] - 2s 10ms/step\n"
          ]
        }
      ]
    },
    {
      "cell_type": "code",
      "source": [
        "transformed_prediction_list = []\n",
        "\n",
        "for i in range(0,len(prediction_list)):\n",
        "    dict_values = list(scaling_dict[i])\n",
        "    or_seq = inverse_scale_target(prediction_list[i], dict_values[0], dict_values[1])\n",
        "    transformed_prediction_list.append(or_seq)"
      ],
      "metadata": {
        "id": "e33nyqtAmNRP"
      },
      "execution_count": null,
      "outputs": []
    },
    {
      "cell_type": "code",
      "source": [
        "print(len(transformed_prediction_list), len(testing_data[30:]))\n",
        "plt.plot(transformed_prediction_list)\n",
        "plt.plot(pd.DataFrame(testing_data[30:])[0])"
      ],
      "metadata": {
        "colab": {
          "base_uri": "https://localhost:8080/"
        },
        "outputId": "5c3b08d7-e3ee-43d3-d55e-3d2f1ff40f06",
        "id": "vHJfRcKZmNRQ"
      },
      "execution_count": null,
      "outputs": [
        {
          "output_type": "stream",
          "name": "stdout",
          "text": [
            "4948 4948\n"
          ]
        },
        {
          "output_type": "execute_result",
          "data": {
            "text/plain": [
              "[<matplotlib.lines.Line2D at 0x7f15b2a62bf0>]"
            ]
          },
          "metadata": {},
          "execution_count": 39
        },
        {
          "output_type": "display_data",
          "data": {
            "text/plain": [
              "<Figure size 640x480 with 1 Axes>"
            ],
            "image/png": "[encoded data removed]"
          },
          "metadata": {}
        }
      ]
    },
    {
      "cell_type": "code",
      "source": [
        "transformed_prediction_list = np.array(transformed_prediction_list)\n",
        "testing_data_np = np.array(pd.DataFrame(testing_data[30:])[0])\n",
        "\n",
        "print(transformed_prediction_list.shape, testing_data_np.shape)\n",
        "error = 0\n",
        "for i in range(0,len(testing_data_np)):\n",
        "  buffer_error = math.sqrt((transformed_prediction_list[i] - testing_data_np[i])*(transformed_prediction_list[i] - testing_data_np[i]))\n",
        "  error += buffer_error\n",
        "\n",
        "test_stock_rmse = error/len(testing_data_np)\n",
        "print(\"Final rmse: \", error/len(testing_data_np))"
      ],
      "metadata": {
        "colab": {
          "base_uri": "https://localhost:8080/"
        },
        "outputId": "4f1479f9-2334-49e2-a45e-cc916af277c9",
        "id": "qz434D9WmNRQ"
      },
      "execution_count": null,
      "outputs": [
        {
          "output_type": "stream",
          "name": "stdout",
          "text": [
            "(4948, 1) (4948,)\n",
            "Final rmse:  2.0341631895770216\n"
          ]
        }
      ]
    },
    {
      "cell_type": "markdown",
      "source": [
        "##Check how accurate regression is"
      ],
      "metadata": {
        "id": "IKzGi4B92MGo"
      }
    },
    {
      "cell_type": "code",
      "source": [
        "preds, actual_close = pd.DataFrame(np.array(transformed_prediction_list)), pd.DataFrame(np.array(testing_data[30:]))\n",
        "dataframe = pd.concat([preds, actual_close], axis=1)\n",
        "dataframe.columns = ['preds', 'actual open', 'actual close', 'difference']\n",
        "dataframe"
      ],
      "metadata": {
        "colab": {
          "base_uri": "https://localhost:8080/"
        },
        "id": "gmdgQkeR2MGo",
        "outputId": "04b0fd05-1504-411b-e920-378ef02e90af"
      },
      "execution_count": null,
      "outputs": [
        {
          "output_type": "execute_result",
          "data": {
            "text/plain": [
              "           preds  actual open  actual close  difference\n",
              "0      24.742418    24.545454     24.427273   -0.481479\n",
              "1      24.505146    24.545454     24.418180   -0.518522\n",
              "2      24.470512    24.472727     24.054544   -1.708769\n",
              "3      24.097572    24.054544     24.054544    0.000000\n",
              "4      24.104345    24.090908     24.400000    1.283022\n",
              "...          ...          ...           ...         ...\n",
              "4943  721.891357   723.000000    725.950012    0.408024\n",
              "4944  728.174805   735.950012    742.000000    0.822065\n",
              "4945  745.062378   751.299988    755.700012    0.585655\n",
              "4946  759.117249   755.000000    769.500000    1.920530\n",
              "4947  772.605469   765.349976    759.900024   -0.712086\n",
              "\n",
              "[4948 rows x 4 columns]"
            ],
            "text/html": [
              "\n",
              "  <div id=\"df-3b79a4aa-9b06-4d2a-9301-086fbb461e16\">\n",
              "    <div class=\"colab-df-container\">\n",
              "      <div>\n",
              "<style scoped>\n",
              "    .dataframe tbody tr th:only-of-type {\n",
              "        vertical-align: middle;\n",
              "    }\n",
              "\n",
              "    .dataframe tbody tr th {\n",
              "        vertical-align: top;\n",
              "    }\n",
              "\n",
              "    .dataframe thead th {\n",
              "        text-align: right;\n",
              "    }\n",
              "</style>\n",
              "<table border=\"1\" class=\"dataframe\">\n",
              "  <thead>\n",
              "    <tr style=\"text-align: right;\">\n",
              "      <th></th>\n",
              "      <th>preds</th>\n",
              "      <th>actual open</th>\n",
              "      <th>actual close</th>\n",
              "      <th>difference</th>\n",
              "    </tr>\n",
              "  </thead>\n",
              "  <tbody>\n",
              "    <tr>\n",
              "      <th>0</th>\n",
              "      <td>24.742418</td>\n",
              "      <td>24.545454</td>\n",
              "      <td>24.427273</td>\n",
              "      <td>-0.481479</td>\n",
              "    </tr>\n",
              "    <tr>\n",
              "      <th>1</th>\n",
              "      <td>24.505146</td>\n",
              "      <td>24.545454</td>\n",
              "      <td>24.418180</td>\n",
              "      <td>-0.518522</td>\n",
              "    </tr>\n",
              "    <tr>\n",
              "      <th>2</th>\n",
              "      <td>24.470512</td>\n",
              "      <td>24.472727</td>\n",
              "      <td>24.054544</td>\n",
              "      <td>-1.708769</td>\n",
              "    </tr>\n",
              "    <tr>\n",
              "      <th>3</th>\n",
              "      <td>24.097572</td>\n",
              "      <td>24.054544</td>\n",
              "      <td>24.054544</td>\n",
              "      <td>0.000000</td>\n",
              "    </tr>\n",
              "    <tr>\n",
              "      <th>4</th>\n",
              "      <td>24.104345</td>\n",
              "      <td>24.090908</td>\n",
              "      <td>24.400000</td>\n",
              "      <td>1.283022</td>\n",
              "    </tr>\n",
              "    <tr>\n",
              "      <th>...</th>\n",
              "      <td>...</td>\n",
              "      <td>...</td>\n",
              "      <td>...</td>\n",
              "      <td>...</td>\n",
              "    </tr>\n",
              "    <tr>\n",
              "      <th>4943</th>\n",
              "      <td>721.891357</td>\n",
              "      <td>723.000000</td>\n",
              "      <td>725.950012</td>\n",
              "      <td>0.408024</td>\n",
              "    </tr>\n",
              "    <tr>\n",
              "      <th>4944</th>\n",
              "      <td>728.174805</td>\n",
              "      <td>735.950012</td>\n",
              "      <td>742.000000</td>\n",
              "      <td>0.822065</td>\n",
              "    </tr>\n",
              "    <tr>\n",
              "      <th>4945</th>\n",
              "      <td>745.062378</td>\n",
              "      <td>751.299988</td>\n",
              "      <td>755.700012</td>\n",
              "      <td>0.585655</td>\n",
              "    </tr>\n",
              "    <tr>\n",
              "      <th>4946</th>\n",
              "      <td>759.117249</td>\n",
              "      <td>755.000000</td>\n",
              "      <td>769.500000</td>\n",
              "      <td>1.920530</td>\n",
              "    </tr>\n",
              "    <tr>\n",
              "      <th>4947</th>\n",
              "      <td>772.605469</td>\n",
              "      <td>765.349976</td>\n",
              "      <td>759.900024</td>\n",
              "      <td>-0.712086</td>\n",
              "    </tr>\n",
              "  </tbody>\n",
              "</table>\n",
              "<p>4948 rows × 4 columns</p>\n",
              "</div>\n",
              "      <button class=\"colab-df-convert\" onclick=\"convertToInteractive('df-3b79a4aa-9b06-4d2a-9301-086fbb461e16')\"\n",
              "              title=\"Convert this dataframe to an interactive table.\"\n",
              "              style=\"display:none;\">\n",
              "        \n",
              "  <svg xmlns=\"http://www.w3.org/2000/svg\" height=\"24px\"viewBox=\"0 0 24 24\"\n",
              "       width=\"24px\">\n",
              "    <path d=\"M0 0h24v24H0V0z\" fill=\"none\"/>\n",
              "    <path d=\"M18.56 5.44l.94 2.06.94-2.06 2.06-.94-2.06-.94-.94-2.06-.94 2.06-2.06.94zm-11 1L8.5 8.5l.94-2.06 2.06-.94-2.06-.94L8.5 2.5l-.94 2.06-2.06.94zm10 10l.94 2.06.94-2.06 2.06-.94-2.06-.94-.94-2.06-.94 2.06-2.06.94z\"/><path d=\"M17.41 7.96l-1.37-1.37c-.4-.4-.92-.59-1.43-.59-.52 0-1.04.2-1.43.59L10.3 9.45l-7.72 7.72c-.78.78-.78 2.05 0 2.83L4 21.41c.39.39.9.59 1.41.59.51 0 1.02-.2 1.41-.59l7.78-7.78 2.81-2.81c.8-.78.8-2.07 0-2.86zM5.41 20L4 18.59l7.72-7.72 1.47 1.35L5.41 20z\"/>\n",
              "  </svg>\n",
              "      </button>\n",
              "      \n",
              "  <style>\n",
              "    .colab-df-container {\n",
              "      display:flex;\n",
              "      flex-wrap:wrap;\n",
              "      gap: 12px;\n",
              "    }\n",
              "\n",
              "    .colab-df-convert {\n",
              "      background-color: #E8F0FE;\n",
              "      border: none;\n",
              "      border-radius: 50%;\n",
              "      cursor: pointer;\n",
              "      display: none;\n",
              "      fill: #1967D2;\n",
              "      height: 32px;\n",
              "      padding: 0 0 0 0;\n",
              "      width: 32px;\n",
              "    }\n",
              "\n",
              "    .colab-df-convert:hover {\n",
              "      background-color: #E2EBFA;\n",
              "      box-shadow: 0px 1px 2px rgba(60, 64, 67, 0.3), 0px 1px 3px 1px rgba(60, 64, 67, 0.15);\n",
              "      fill: #174EA6;\n",
              "    }\n",
              "\n",
              "    [theme=dark] .colab-df-convert {\n",
              "      background-color: #3B4455;\n",
              "      fill: #D2E3FC;\n",
              "    }\n",
              "\n",
              "    [theme=dark] .colab-df-convert:hover {\n",
              "      background-color: #434B5C;\n",
              "      box-shadow: 0px 1px 3px 1px rgba(0, 0, 0, 0.15);\n",
              "      filter: drop-shadow(0px 1px 2px rgba(0, 0, 0, 0.3));\n",
              "      fill: #FFFFFF;\n",
              "    }\n",
              "  </style>\n",
              "\n",
              "      <script>\n",
              "        const buttonEl =\n",
              "          document.querySelector('#df-3b79a4aa-9b06-4d2a-9301-086fbb461e16 button.colab-df-convert');\n",
              "        buttonEl.style.display =\n",
              "          google.colab.kernel.accessAllowed ? 'block' : 'none';\n",
              "\n",
              "        async function convertToInteractive(key) {\n",
              "          const element = document.querySelector('#df-3b79a4aa-9b06-4d2a-9301-086fbb461e16');\n",
              "          const dataTable =\n",
              "            await google.colab.kernel.invokeFunction('convertToInteractive',\n",
              "                                                     [key], {});\n",
              "          if (!dataTable) return;\n",
              "\n",
              "          const docLinkHtml = 'Like what you see? Visit the ' +\n",
              "            '<a target=\"_blank\" href=https://colab.research.google.com/notebooks/data_table.ipynb>data table notebook</a>'\n",
              "            + ' to learn more about interactive tables.';\n",
              "          element.innerHTML = '';\n",
              "          dataTable['output_type'] = 'display_data';\n",
              "          await google.colab.output.renderOutput(dataTable, element);\n",
              "          const docLink = document.createElement('div');\n",
              "          docLink.innerHTML = docLinkHtml;\n",
              "          element.appendChild(docLink);\n",
              "        }\n",
              "      </script>\n",
              "    </div>\n",
              "  </div>\n",
              "  "
            ]
          },
          "metadata": {},
          "execution_count": 41
        }
      ]
    },
    {
      "cell_type": "code",
      "source": [
        "fp = 0\n",
        "fn = 0\n",
        "tn = 0\n",
        "tp = 0\n",
        "\n",
        "for i in range(0, dataframe.shape[0]-1):\n",
        "    if dataframe.iloc[i+1][0] > dataframe.iloc[i][2] and dataframe.iloc[i+1][1]>dataframe.iloc[i][2]:\n",
        "        tp += 1\n",
        "    elif dataframe.iloc[i+1][0] > dataframe.iloc[i][2] and dataframe.iloc[i+1][1]<dataframe.iloc[i][2]:\n",
        "        fp += 1\n",
        "    elif dataframe.iloc[i+1][0] < dataframe.iloc[i][2] and dataframe.iloc[i+1][1]<dataframe.iloc[i][2]:\n",
        "        tn += 1\n",
        "    elif dataframe.iloc[i+1][0] < dataframe.iloc[i][2] and dataframe.iloc[i+1][1]>dataframe.iloc[i][2]:\n",
        "        fn += 1\n",
        "\n",
        "test_stock_matrix = (tp,fp,fn, tn)\n",
        "test_stock_accuracy = tp /(tp +fp )"
      ],
      "metadata": {
        "id": "L3fz2kxJ2MGp"
      },
      "execution_count": null,
      "outputs": []
    },
    {
      "cell_type": "code",
      "source": [
        "print(tp,fp,fn, tn)"
      ],
      "metadata": {
        "colab": {
          "base_uri": "https://localhost:8080/"
        },
        "outputId": "154a5eed-8639-4d22-e81a-1d7a62ca1a11",
        "id": "0SnXXCAU2MGp"
      },
      "execution_count": null,
      "outputs": [
        {
          "output_type": "stream",
          "name": "stdout",
          "text": [
            "2493 1579 447 287\n"
          ]
        }
      ]
    },
    {
      "cell_type": "code",
      "source": [
        "tp /(tp +fp )"
      ],
      "metadata": {
        "colab": {
          "base_uri": "https://localhost:8080/"
        },
        "outputId": "73676442-d145-4f23-b6f3-69870ee65580",
        "id": "nfRVssNJ2MGp"
      },
      "execution_count": null,
      "outputs": [
        {
          "output_type": "execute_result",
          "data": {
            "text/plain": [
              "0.6122298624754421"
            ]
          },
          "metadata": {},
          "execution_count": 44
        }
      ]
    },
    {
      "cell_type": "code",
      "source": [],
      "metadata": {
        "id": "zkW8QRmZ2MGp"
      },
      "execution_count": null,
      "outputs": []
    },
    {
      "cell_type": "code",
      "source": [],
      "metadata": {
        "id": "H5XpDpPt3hTl"
      },
      "execution_count": null,
      "outputs": []
    },
    {
      "cell_type": "markdown",
      "source": [
        "#Results of above"
      ],
      "metadata": {
        "id": "Um2M9D8MQ3LM"
      }
    },
    {
      "cell_type": "code",
      "source": [
        "print(\"base stock rmse: \", base_stock_rmse)\n",
        "print(\"base stock matrix: \", base_stock_matrix)\n",
        "print(\"test stock rmse: \", test_stock_rmse)\n",
        "print(\"test stock accuracy: \", test_stock_accuracy)\n",
        "print(\"test stock matrix: \", test_stock_matrix)"
      ],
      "metadata": {
        "colab": {
          "base_uri": "https://localhost:8080/"
        },
        "id": "Kk0aZWIOQ4f8",
        "outputId": "f515a390-62ef-4b6f-eae4-17ecea67a365"
      },
      "execution_count": null,
      "outputs": [
        {
          "output_type": "stream",
          "name": "stdout",
          "text": [
            "base stock rmse:  7.1118593440840305\n",
            "base stock matrix:  (619, 426, 137, 99)\n",
            "test stock rmse:  2.0341631895770216\n",
            "test stock accuracy:  0.6122298624754421\n",
            "test stock matrix:  (2493, 1579, 447, 287)\n"
          ]
        }
      ]
    },
    {
      "cell_type": "markdown",
      "source": [
        "#Use 4 features, Open, Close and 2 EMAS\n"
      ],
      "metadata": {
        "id": "9PWid6613jcI"
      }
    },
    {
      "cell_type": "markdown",
      "source": [
        "##Create Targets and scale the data"
      ],
      "metadata": {
        "id": "UZC8aiZ43jcJ"
      }
    },
    {
      "cell_type": "markdown",
      "source": [
        "The target is going to be next day's closing price. The batches will be create accordingly."
      ],
      "metadata": {
        "id": "j_RC3Lhf3jcJ"
      }
    },
    {
      "cell_type": "code",
      "source": [
        "df['EWMA10'] = df['Close'].ewm(span=10).mean()\n",
        "df['EWMA5'] = df['Close'].ewm(span=5).mean()"
      ],
      "metadata": {
        "id": "5v9Jmw0L3jcJ"
      },
      "execution_count": null,
      "outputs": []
    },
    {
      "cell_type": "code",
      "source": [
        "feature = np.array(df[['Open', 'Close', 'EWMA10', 'EWMA5']])\n",
        "\n",
        "print(feature.shape)\n",
        "\n",
        "import math\n",
        "\n",
        "training_data_len = math.ceil(feature.shape[0] *0.8)\n",
        "print(training_data_len)\n",
        "training_data = feature[:training_data_len]\n",
        "testing_data = feature[training_data_len:]\n",
        "print(training_data.shape, testing_data.shape)"
      ],
      "metadata": {
        "colab": {
          "base_uri": "https://localhost:8080/"
        },
        "outputId": "f951292e-4ffa-41a1-da03-85067eeb3f1e",
        "id": "KKsMMJgw3jcJ"
      },
      "execution_count": null,
      "outputs": [
        {
          "output_type": "stream",
          "name": "stdout",
          "text": [
            "(6676, 4)\n",
            "5341\n",
            "(5341, 4) (1335, 4)\n"
          ]
        }
      ]
    },
    {
      "cell_type": "code",
      "source": [
        "training_data[:32]"
      ],
      "metadata": {
        "colab": {
          "base_uri": "https://localhost:8080/"
        },
        "outputId": "488bc83a-f083-4b97-d71c-7ecfa96509f9",
        "id": "hfFDbTQ13jcJ"
      },
      "execution_count": null,
      "outputs": [
        {
          "output_type": "execute_result",
          "data": {
            "text/plain": [
              "array([[3.02999997, 2.98000002, 2.98000002, 2.98000002],\n",
              "       [2.98000002, 2.9749999 , 2.97724996, 2.97699995],\n",
              "       [2.9749999 , 2.9849999 , 2.98036538, 2.9807894 ],\n",
              "       [2.9849999 , 2.96499991, 2.97530314, 2.97423069],\n",
              "       [2.96499991, 2.96000004, 2.97091004, 2.96876774],\n",
              "       [2.96000004, 2.92499995, 2.9589856 , 2.9527744 ],\n",
              "       [2.92499995, 2.82999992, 2.92790524, 2.90930544],\n",
              "       [2.82999992, 2.83999991, 2.90790635, 2.8852656 ],\n",
              "       [2.83999991, 2.82999992, 2.89095664, 2.86635171],\n",
              "       [2.82999992, 2.82500005, 2.87710205, 2.85232457],\n",
              "       [2.82500005, 2.78999996, 2.85930818, 2.83130671],\n",
              "       [2.78999996, 2.74000001, 2.83547063, 2.80063475],\n",
              "       [2.74000001, 2.65499997, 2.80004979, 2.7518391 ],\n",
              "       [2.65499997, 2.6400001 , 2.76908444, 2.71443129],\n",
              "       [2.6400001 , 2.55500007, 2.72814201, 2.66116591],\n",
              "       [2.55500007, 2.54500008, 2.69344421, 2.62238492],\n",
              "       [2.54500008, 2.52999997, 2.66271311, 2.59155865],\n",
              "       [2.52999997, 2.46499991, 2.62576789, 2.54934384],\n",
              "       [2.46499991, 2.43499994, 2.5902994 , 2.51121201],\n",
              "       [2.43499994, 2.43499994, 2.56154347, 2.48580034],\n",
              "       [2.43499994, 2.4849999 , 2.54741759, 2.48553347],\n",
              "       [2.4849999 , 2.51999998, 2.54237153, 2.49702385],\n",
              "       [2.51999998, 2.58999991, 2.5511178 , 2.52801863],\n",
              "       [2.58999991, 2.77999997, 2.59307251, 2.6120174 ],\n",
              "       [2.77999997, 2.91499996, 2.65199519, 2.71301559],\n",
              "       [2.91499996, 2.99499989, 2.71469961, 2.80701284],\n",
              "       [2.99499989, 2.9749999 , 2.76223779, 2.86300951],\n",
              "       [2.9749999 , 2.86500001, 2.78098989, 2.86367302],\n",
              "       [2.86500001, 3.04500008, 2.82913469, 2.92411584],\n",
              "       [3.04500008, 3.6500001 , 2.97874641, 3.16607852],\n",
              "       [3.6500001 , 3.50999999, 3.07553034, 3.28071941],\n",
              "       [3.5999999 , 3.45000005, 3.14372665, 3.33714642]])"
            ]
          },
          "metadata": {},
          "execution_count": 48
        }
      ]
    },
    {
      "cell_type": "code",
      "source": [
        "batches_training = []\n",
        "targets_training = []\n",
        "\n",
        "for i in range(30,len(training_data)):\n",
        "    buffer_array = list(training_data[i-30:i,:])\n",
        "    targets_training.append(training_data[i][0])\n",
        "    batches_training.append(buffer_array)\n",
        "\n",
        "print(np.array(batches_training).shape, np.array(targets_training).shape)"
      ],
      "metadata": {
        "colab": {
          "base_uri": "https://localhost:8080/"
        },
        "outputId": "eb9374eb-2b15-41b1-d471-be1f569c53f8",
        "id": "4vCBWjdr3jcJ"
      },
      "execution_count": null,
      "outputs": [
        {
          "output_type": "stream",
          "name": "stdout",
          "text": [
            "(5311, 30, 4) (5311,)\n"
          ]
        }
      ]
    },
    {
      "cell_type": "code",
      "source": [
        "#Define batch scaling function\n",
        "scaled_training_data = []\n",
        "scaled_training_targets = []\n",
        "\n",
        "def scale(x, buffer_target):\n",
        "  seq_x = np.array(x)\n",
        "  max_x = np.amax(seq_x)\n",
        "  min_x = np.amin(seq_x)\n",
        "  new_seq = []\n",
        "  for j in seq_x:\n",
        "    buffer_seq = []\n",
        "    for k in j:\n",
        "      new_k = (k-min_x)/(max_x-min_x)\n",
        "      buffer_seq.append(new_k)\n",
        "    new_seq.append(buffer_seq)\n",
        "  scaled_target = (buffer_target-min_x)/(max_x-min_x)\n",
        "  return new_seq, scaled_target\n",
        "\n",
        "def scale_vol(x):\n",
        "  return x\n",
        "\n",
        "for i in range(0, len(batches_training)):\n",
        "  seq = batches_training[i]\n",
        "  buffer_target = targets_training[i]\n",
        "  new_seq, scaled_target = scale(seq, buffer_target)\n",
        "  scaled_training_data.append(new_seq)\n",
        "  scaled_training_targets.append(scaled_target)\n",
        "\n",
        "\n",
        "print(np.array(scaled_training_data).shape, np.array(scaled_training_targets).shape)"
      ],
      "metadata": {
        "colab": {
          "base_uri": "https://localhost:8080/"
        },
        "outputId": "bea389a7-b25b-4fbe-c399-4fbffabf26a0",
        "id": "-lIGLYtn3jcJ"
      },
      "execution_count": null,
      "outputs": [
        {
          "output_type": "stream",
          "name": "stdout",
          "text": [
            "(5311, 30, 4) (5311,)\n"
          ]
        }
      ]
    },
    {
      "cell_type": "code",
      "source": [
        "x_train = np.array(scaled_training_data)\n",
        "y_train = np.array(scaled_training_targets)\n",
        "\n",
        "x_train.shape, y_train.shape"
      ],
      "metadata": {
        "colab": {
          "base_uri": "https://localhost:8080/"
        },
        "outputId": "68c50926-7b08-4bd3-e2ef-06e9c9d6cf20",
        "id": "D7jSKW_f3jcJ"
      },
      "execution_count": null,
      "outputs": [
        {
          "output_type": "execute_result",
          "data": {
            "text/plain": [
              "((5311, 30, 4), (5311,))"
            ]
          },
          "metadata": {},
          "execution_count": 51
        }
      ]
    },
    {
      "cell_type": "code",
      "source": [
        "# np.array(scaled_data).shape\n",
        "\n",
        "# x_train = []\n",
        "# y_train = []\n",
        "# for i in range(0, len(scaled_data)):\n",
        "#     seq = scaled_data[i]\n",
        "#     x_train.append(seq[0:-1])\n",
        "#     y_train.append(seq[-1])\n",
        "\n",
        "# x_train, y_train = np.array(x_train), np.array(y_train)\n",
        "# x_train = np.reshape(x_train, (x_train.shape[0], x_train.shape[1], 1))\n",
        "# print(x_train.shape, y_train.shape)"
      ],
      "metadata": {
        "id": "A4WkC3GL3jcK"
      },
      "execution_count": null,
      "outputs": []
    },
    {
      "cell_type": "markdown",
      "source": [
        "##Model Architecture"
      ],
      "metadata": {
        "id": "nDDFCn0E3jcK"
      }
    },
    {
      "cell_type": "code",
      "source": [
        "model = Sequential()\n",
        "model.add(LSTM(units=50, return_sequences=True))\n",
        "model.add(LSTM(units=50, return_sequences=False))\n",
        "model.add(Dense(units=25))\n",
        "model.add(Dense(units=1))\n",
        "\n",
        "model.compile(optimizer='adam', loss='mean_squared_error')\n",
        "## epochs = 9\n",
        "history = model.fit(x_train, y_train, batch_size=256, epochs=40, validation_split=0.2)"
      ],
      "metadata": {
        "colab": {
          "base_uri": "https://localhost:8080/"
        },
        "outputId": "3e46d30b-fbad-44ed-a282-3cf82d6fd2ac",
        "id": "4LnSi0nM3jcK"
      },
      "execution_count": null,
      "outputs": [
        {
          "output_type": "stream",
          "name": "stdout",
          "text": [
            "Epoch 1/40\n",
            "17/17 [==============================] - 8s 196ms/step - loss: 0.1143 - val_loss: 0.0797\n",
            "Epoch 2/40\n",
            "17/17 [==============================] - 3s 148ms/step - loss: 0.0666 - val_loss: 0.0569\n",
            "Epoch 3/40\n",
            "17/17 [==============================] - 2s 113ms/step - loss: 0.0532 - val_loss: 0.0418\n",
            "Epoch 4/40\n",
            "17/17 [==============================] - 2s 113ms/step - loss: 0.0444 - val_loss: 0.0347\n",
            "Epoch 5/40\n",
            "17/17 [==============================] - 2s 114ms/step - loss: 0.0400 - val_loss: 0.0313\n",
            "Epoch 6/40\n",
            "17/17 [==============================] - 2s 112ms/step - loss: 0.0361 - val_loss: 0.0280\n",
            "Epoch 7/40\n",
            "17/17 [==============================] - 3s 154ms/step - loss: 0.0319 - val_loss: 0.0235\n",
            "Epoch 8/40\n",
            "17/17 [==============================] - 3s 155ms/step - loss: 0.0272 - val_loss: 0.0191\n",
            "Epoch 9/40\n",
            "17/17 [==============================] - 2s 114ms/step - loss: 0.0235 - val_loss: 0.0155\n",
            "Epoch 10/40\n",
            "17/17 [==============================] - 2s 115ms/step - loss: 0.0194 - val_loss: 0.0126\n",
            "Epoch 11/40\n",
            "17/17 [==============================] - 2s 111ms/step - loss: 0.0163 - val_loss: 0.0106\n",
            "Epoch 12/40\n",
            "17/17 [==============================] - 2s 112ms/step - loss: 0.0134 - val_loss: 0.0098\n",
            "Epoch 13/40\n",
            "17/17 [==============================] - 2s 142ms/step - loss: 0.0144 - val_loss: 0.0089\n",
            "Epoch 14/40\n",
            "17/17 [==============================] - 3s 166ms/step - loss: 0.0114 - val_loss: 0.0066\n",
            "Epoch 15/40\n",
            "17/17 [==============================] - 2s 111ms/step - loss: 0.0102 - val_loss: 0.0061\n",
            "Epoch 16/40\n",
            "17/17 [==============================] - 2s 113ms/step - loss: 0.0100 - val_loss: 0.0055\n",
            "Epoch 17/40\n",
            "17/17 [==============================] - 2s 114ms/step - loss: 0.0103 - val_loss: 0.0079\n",
            "Epoch 18/40\n",
            "17/17 [==============================] - 2s 111ms/step - loss: 0.0102 - val_loss: 0.0055\n",
            "Epoch 19/40\n",
            "17/17 [==============================] - 2s 129ms/step - loss: 0.0097 - val_loss: 0.0053\n",
            "Epoch 20/40\n",
            "17/17 [==============================] - 3s 178ms/step - loss: 0.0096 - val_loss: 0.0059\n",
            "Epoch 21/40\n",
            "17/17 [==============================] - 2s 113ms/step - loss: 0.0100 - val_loss: 0.0059\n",
            "Epoch 22/40\n",
            "17/17 [==============================] - 2s 113ms/step - loss: 0.0096 - val_loss: 0.0053\n",
            "Epoch 23/40\n",
            "17/17 [==============================] - 2s 113ms/step - loss: 0.0096 - val_loss: 0.0059\n",
            "Epoch 24/40\n",
            "17/17 [==============================] - 2s 113ms/step - loss: 0.0095 - val_loss: 0.0053\n",
            "Epoch 25/40\n",
            "17/17 [==============================] - 2s 126ms/step - loss: 0.0096 - val_loss: 0.0054\n",
            "Epoch 26/40\n",
            "17/17 [==============================] - 3s 183ms/step - loss: 0.0097 - val_loss: 0.0058\n",
            "Epoch 27/40\n",
            "17/17 [==============================] - 2s 112ms/step - loss: 0.0097 - val_loss: 0.0053\n",
            "Epoch 28/40\n",
            "17/17 [==============================] - 2s 113ms/step - loss: 0.0094 - val_loss: 0.0053\n",
            "Epoch 29/40\n",
            "17/17 [==============================] - 2s 112ms/step - loss: 0.0094 - val_loss: 0.0055\n",
            "Epoch 30/40\n",
            "17/17 [==============================] - 2s 114ms/step - loss: 0.0094 - val_loss: 0.0058\n",
            "Epoch 31/40\n",
            "17/17 [==============================] - 2s 112ms/step - loss: 0.0095 - val_loss: 0.0053\n",
            "Epoch 32/40\n",
            "17/17 [==============================] - 3s 196ms/step - loss: 0.0093 - val_loss: 0.0053\n",
            "Epoch 33/40\n",
            "17/17 [==============================] - 2s 111ms/step - loss: 0.0094 - val_loss: 0.0053\n",
            "Epoch 34/40\n",
            "17/17 [==============================] - 2s 113ms/step - loss: 0.0093 - val_loss: 0.0054\n",
            "Epoch 35/40\n",
            "17/17 [==============================] - 2s 110ms/step - loss: 0.0099 - val_loss: 0.0055\n",
            "Epoch 36/40\n",
            "17/17 [==============================] - 2s 111ms/step - loss: 0.0095 - val_loss: 0.0058\n",
            "Epoch 37/40\n",
            "17/17 [==============================] - 2s 111ms/step - loss: 0.0095 - val_loss: 0.0063\n",
            "Epoch 38/40\n",
            "17/17 [==============================] - 3s 204ms/step - loss: 0.0095 - val_loss: 0.0053\n",
            "Epoch 39/40\n",
            "17/17 [==============================] - 2s 113ms/step - loss: 0.0095 - val_loss: 0.0054\n",
            "Epoch 40/40\n",
            "17/17 [==============================] - 2s 113ms/step - loss: 0.0100 - val_loss: 0.0057\n"
          ]
        }
      ]
    },
    {
      "cell_type": "code",
      "source": [
        "plt.plot(history.history['loss'])\n",
        "plt.plot(history.history['val_loss'])\n",
        "plt.show()"
      ],
      "metadata": {
        "colab": {
          "base_uri": "https://localhost:8080/"
        },
        "outputId": "2d7455fd-6f88-459a-dfcc-2ca86e1754cd",
        "id": "9pF4FTd33jcK"
      },
      "execution_count": null,
      "outputs": [
        {
          "output_type": "display_data",
          "data": {
            "text/plain": [
              "<Figure size 640x480 with 1 Axes>"
            ],
            "image/png": "[encoded data removed]"
          },
          "metadata": {}
        }
      ]
    },
    {
      "cell_type": "markdown",
      "source": [
        "##Creating testing batches"
      ],
      "metadata": {
        "id": "wmOg_9Fx3jcK"
      }
    },
    {
      "cell_type": "code",
      "source": [
        "batches_testing = []\n",
        "targets_testing = []\n",
        "\n",
        "for i in range(30,len(testing_data)):\n",
        "    buffer_array = list(testing_data[i-30:i,:])\n",
        "    targets_testing.append(testing_data[i][0])\n",
        "    batches_testing.append(buffer_array)\n",
        "\n",
        "print(np.array(batches_testing).shape, np.array(targets_testing).shape)\n"
      ],
      "metadata": {
        "colab": {
          "base_uri": "https://localhost:8080/"
        },
        "outputId": "dd8b3c44-d13a-4b16-c5db-b42ea64946d5",
        "id": "IkugWvOs3jcK"
      },
      "execution_count": null,
      "outputs": [
        {
          "output_type": "stream",
          "name": "stdout",
          "text": [
            "(1305, 30, 4) (1305,)\n"
          ]
        }
      ]
    },
    {
      "cell_type": "code",
      "source": [
        "#Define batch scaling function\n",
        "scaled_testing_data = []\n",
        "scaled_testing_targets = []\n",
        "\n",
        "scaling_dict = {}\n",
        "def inverse_scale_data(x, min_x, max_x):\n",
        "  orig_seq = []\n",
        "  for j in x:\n",
        "    buffer_array = []\n",
        "    for k in j:\n",
        "      orig_k = k*(max_x-min_x) + min_x\n",
        "      buffer_array.append(orig_k)\n",
        "    orig_seq.append(buffer_array)\n",
        "  return orig_seq\n",
        "\n",
        "def inverse_scale_target(x, min_x, max_x):\n",
        "  orig_x = x*(max_x-min_x) + min_x\n",
        "  return orig_x\n",
        "\n",
        "def scale(x, buffer_target,i):\n",
        "  seq_x = np.array(x)\n",
        "  max_x = np.amax(seq_x)\n",
        "  min_x = np.amin(seq_x)\n",
        "  scaling_dict[i] = (min_x, max_x)\n",
        "  new_seq = []\n",
        "  for j in seq_x:\n",
        "    buffer_seq = []\n",
        "    for k in j:\n",
        "      new_k = (k-min_x)/(max_x-min_x)\n",
        "      buffer_seq.append(new_k)\n",
        "    new_seq.append(buffer_seq)\n",
        "  scaled_target = (buffer_target-min_x)/(max_x-min_x)\n",
        "  return new_seq, scaled_target\n",
        "\n",
        "\n",
        "for i in range(0, len(batches_testing)):\n",
        "  seq = batches_testing[i]\n",
        "  buffer_target = targets_testing[i]\n",
        "  new_seq, scaled_target = scale(seq, buffer_target, i)\n",
        "  scaled_testing_data.append(new_seq)\n",
        "  scaled_testing_targets.append(scaled_target)\n",
        "\n",
        "print(np.array(scaled_testing_data).shape, np.array(scaled_testing_targets).shape)"
      ],
      "metadata": {
        "colab": {
          "base_uri": "https://localhost:8080/"
        },
        "outputId": "e31f8d65-7fae-4845-87ae-6a1547cb5856",
        "id": "dQVq1dB23jcK"
      },
      "execution_count": null,
      "outputs": [
        {
          "output_type": "stream",
          "name": "stdout",
          "text": [
            "(1305, 30, 4) (1305,)\n"
          ]
        }
      ]
    },
    {
      "cell_type": "code",
      "source": [
        "len(scaling_dict.keys())"
      ],
      "metadata": {
        "colab": {
          "base_uri": "https://localhost:8080/"
        },
        "outputId": "95e7bf7e-0be8-4d70-cf98-7df4159670b0",
        "id": "3gk_hnvr3jcK"
      },
      "execution_count": null,
      "outputs": [
        {
          "output_type": "execute_result",
          "data": {
            "text/plain": [
              "1305"
            ]
          },
          "metadata": {},
          "execution_count": 57
        }
      ]
    },
    {
      "cell_type": "code",
      "source": [
        "x_test = np.array(scaled_testing_data)\n",
        "y_test = np.array(scaled_testing_targets)\n",
        "print(x_test.shape, y_test.shape)"
      ],
      "metadata": {
        "colab": {
          "base_uri": "https://localhost:8080/"
        },
        "outputId": "c7f2d1a6-1a40-48b2-e53d-324507745c4c",
        "id": "ewh-vf--3jcL"
      },
      "execution_count": null,
      "outputs": [
        {
          "output_type": "stream",
          "name": "stdout",
          "text": [
            "(1305, 30, 4) (1305,)\n"
          ]
        }
      ]
    },
    {
      "cell_type": "markdown",
      "source": [
        "##Testing"
      ],
      "metadata": {
        "id": "O0PuJ45F3jcL"
      }
    },
    {
      "cell_type": "code",
      "source": [
        "model.evaluate(x_test, y_test)"
      ],
      "metadata": {
        "colab": {
          "base_uri": "https://localhost:8080/"
        },
        "outputId": "8f1fa246-4eb0-483a-a537-34a55c6d3412",
        "id": "rNbRQrnb3jcL"
      },
      "execution_count": null,
      "outputs": [
        {
          "output_type": "stream",
          "name": "stdout",
          "text": [
            "41/41 [==============================] - 0s 10ms/step - loss: 0.0069\n"
          ]
        },
        {
          "output_type": "execute_result",
          "data": {
            "text/plain": [
              "0.006870239973068237"
            ]
          },
          "metadata": {},
          "execution_count": 59
        }
      ]
    },
    {
      "cell_type": "code",
      "source": [
        "prediction_list = model.predict(x_test)"
      ],
      "metadata": {
        "colab": {
          "base_uri": "https://localhost:8080/"
        },
        "outputId": "da0ae6cd-95e6-46a8-ed1f-8393391f5992",
        "id": "uE6xO8su3jcL"
      },
      "execution_count": null,
      "outputs": [
        {
          "output_type": "stream",
          "name": "stdout",
          "text": [
            "41/41 [==============================] - 1s 10ms/step\n"
          ]
        }
      ]
    },
    {
      "cell_type": "code",
      "source": [
        "transformed_prediction_list = []\n",
        "\n",
        "for i in range(0,len(prediction_list)):\n",
        "    dict_values = list(scaling_dict[i])\n",
        "    or_seq = inverse_scale_target(prediction_list[i], dict_values[0], dict_values[1])\n",
        "    transformed_prediction_list.append(or_seq)"
      ],
      "metadata": {
        "id": "e0JW38MI3jcL"
      },
      "execution_count": null,
      "outputs": []
    },
    {
      "cell_type": "code",
      "source": [
        "print(len(transformed_prediction_list), len(testing_data[30:]))\n",
        "plt.plot(transformed_prediction_list)\n",
        "plt.plot(pd.DataFrame(testing_data[30:])[0])"
      ],
      "metadata": {
        "colab": {
          "base_uri": "https://localhost:8080/"
        },
        "outputId": "f7217ccb-207e-4aca-c57c-1276283231da",
        "id": "P61TbSow3jcL"
      },
      "execution_count": null,
      "outputs": [
        {
          "output_type": "stream",
          "name": "stdout",
          "text": [
            "1305 1305\n"
          ]
        },
        {
          "output_type": "execute_result",
          "data": {
            "text/plain": [
              "[<matplotlib.lines.Line2D at 0x7f15ac145900>]"
            ]
          },
          "metadata": {},
          "execution_count": 62
        },
        {
          "output_type": "display_data",
          "data": {
            "text/plain": [
              "<Figure size 640x480 with 1 Axes>"
            ],
            "image/png": "[encoded data removed]"
          },
          "metadata": {}
        }
      ]
    },
    {
      "cell_type": "code",
      "source": [
        "transformed_prediction_list = np.array(transformed_prediction_list)\n",
        "testing_data_np = np.array(pd.DataFrame(testing_data[30:])[0])\n",
        "\n",
        "print(transformed_prediction_list.shape, testing_data_np.shape)\n",
        "error = 0\n",
        "for i in range(0,len(testing_data_np)):\n",
        "  buffer_error = math.sqrt((transformed_prediction_list[i] - testing_data_np[i])*(transformed_prediction_list[i] - testing_data_np[i]))\n",
        "  error += buffer_error\n",
        "\n",
        "base_stock_rmse = error/len(testing_data_np)\n",
        "print(\"Final rmse: \", error/len(testing_data_np))"
      ],
      "metadata": {
        "colab": {
          "base_uri": "https://localhost:8080/"
        },
        "outputId": "f7a71368-9088-40c5-8f68-6e2564fefdc3",
        "id": "GfcHNqq43jcL"
      },
      "execution_count": null,
      "outputs": [
        {
          "output_type": "stream",
          "name": "stdout",
          "text": [
            "(1305, 1) (1305,)\n",
            "Final rmse:  7.330701900648866\n"
          ]
        }
      ]
    },
    {
      "cell_type": "markdown",
      "source": [
        "##Check how accurate regression is"
      ],
      "metadata": {
        "id": "JPzx1SU23jcL"
      }
    },
    {
      "cell_type": "code",
      "source": [
        "preds, actual_close = pd.DataFrame(np.array(transformed_prediction_list)), pd.DataFrame(np.array(testing_data[30:]))\n",
        "dataframe = pd.concat([preds, actual_close], axis=1)\n",
        "dataframe.columns = ['preds', 'actual open', 'actual close', 'EWMA10', 'EWMA5']\n",
        "dataframe"
      ],
      "metadata": {
        "colab": {
          "base_uri": "https://localhost:8080/"
        },
        "outputId": "75348f37-f0e8-488d-da78-91fbd40c66cd",
        "id": "2IdeV5EB3jcL"
      },
      "execution_count": null,
      "outputs": [
        {
          "output_type": "execute_result",
          "data": {
            "text/plain": [
              "            preds  actual open  actual close       EWMA10        EWMA5\n",
              "0      717.311707   723.000000    716.599976   716.012691   718.683106\n",
              "1      715.092773   717.625000    716.174988   716.042199   717.847066\n",
              "2      715.145996   715.750000    719.250000   716.625436   718.314711\n",
              "3      718.401184   715.525024    719.424988   717.134445   718.684803\n",
              "4      718.288452   721.500000    717.075012   717.123639   718.148206\n",
              "...           ...          ...           ...          ...          ...\n",
              "1300  1351.774414  1348.000000   1371.250000  1351.399945  1357.926236\n",
              "1301  1370.953125  1380.000000   1395.800049  1359.472691  1370.550841\n",
              "1302  1394.532349  1410.000000   1397.099976  1366.314015  1379.400552\n",
              "1303  1394.464722  1394.000000   1406.150024  1373.556926  1388.317043\n",
              "1304  1403.682007  1405.250000   1391.800049  1376.873858  1389.478045\n",
              "\n",
              "[1305 rows x 5 columns]"
            ],
            "text/html": [
              "\n",
              "  <div id=\"df-f9977fcf-0bb3-4ebe-9096-75e9e0991726\">\n",
              "    <div class=\"colab-df-container\">\n",
              "      <div>\n",
              "<style scoped>\n",
              "    .dataframe tbody tr th:only-of-type {\n",
              "        vertical-align: middle;\n",
              "    }\n",
              "\n",
              "    .dataframe tbody tr th {\n",
              "        vertical-align: top;\n",
              "    }\n",
              "\n",
              "    .dataframe thead th {\n",
              "        text-align: right;\n",
              "    }\n",
              "</style>\n",
              "<table border=\"1\" class=\"dataframe\">\n",
              "  <thead>\n",
              "    <tr style=\"text-align: right;\">\n",
              "      <th></th>\n",
              "      <th>preds</th>\n",
              "      <th>actual open</th>\n",
              "      <th>actual close</th>\n",
              "      <th>EWMA10</th>\n",
              "      <th>EWMA5</th>\n",
              "    </tr>\n",
              "  </thead>\n",
              "  <tbody>\n",
              "    <tr>\n",
              "      <th>0</th>\n",
              "      <td>717.311707</td>\n",
              "      <td>723.000000</td>\n",
              "      <td>716.599976</td>\n",
              "      <td>716.012691</td>\n",
              "      <td>718.683106</td>\n",
              "    </tr>\n",
              "    <tr>\n",
              "      <th>1</th>\n",
              "      <td>715.092773</td>\n",
              "      <td>717.625000</td>\n",
              "      <td>716.174988</td>\n",
              "      <td>716.042199</td>\n",
              "      <td>717.847066</td>\n",
              "    </tr>\n",
              "    <tr>\n",
              "      <th>2</th>\n",
              "      <td>715.145996</td>\n",
              "      <td>715.750000</td>\n",
              "      <td>719.250000</td>\n",
              "      <td>716.625436</td>\n",
              "      <td>718.314711</td>\n",
              "    </tr>\n",
              "    <tr>\n",
              "      <th>3</th>\n",
              "      <td>718.401184</td>\n",
              "      <td>715.525024</td>\n",
              "      <td>719.424988</td>\n",
              "      <td>717.134445</td>\n",
              "      <td>718.684803</td>\n",
              "    </tr>\n",
              "    <tr>\n",
              "      <th>4</th>\n",
              "      <td>718.288452</td>\n",
              "      <td>721.500000</td>\n",
              "      <td>717.075012</td>\n",
              "      <td>717.123639</td>\n",
              "      <td>718.148206</td>\n",
              "    </tr>\n",
              "    <tr>\n",
              "      <th>...</th>\n",
              "      <td>...</td>\n",
              "      <td>...</td>\n",
              "      <td>...</td>\n",
              "      <td>...</td>\n",
              "      <td>...</td>\n",
              "    </tr>\n",
              "    <tr>\n",
              "      <th>1300</th>\n",
              "      <td>1351.774414</td>\n",
              "      <td>1348.000000</td>\n",
              "      <td>1371.250000</td>\n",
              "      <td>1351.399945</td>\n",
              "      <td>1357.926236</td>\n",
              "    </tr>\n",
              "    <tr>\n",
              "      <th>1301</th>\n",
              "      <td>1370.953125</td>\n",
              "      <td>1380.000000</td>\n",
              "      <td>1395.800049</td>\n",
              "      <td>1359.472691</td>\n",
              "      <td>1370.550841</td>\n",
              "    </tr>\n",
              "    <tr>\n",
              "      <th>1302</th>\n",
              "      <td>1394.532349</td>\n",
              "      <td>1410.000000</td>\n",
              "      <td>1397.099976</td>\n",
              "      <td>1366.314015</td>\n",
              "      <td>1379.400552</td>\n",
              "    </tr>\n",
              "    <tr>\n",
              "      <th>1303</th>\n",
              "      <td>1394.464722</td>\n",
              "      <td>1394.000000</td>\n",
              "      <td>1406.150024</td>\n",
              "      <td>1373.556926</td>\n",
              "      <td>1388.317043</td>\n",
              "    </tr>\n",
              "    <tr>\n",
              "      <th>1304</th>\n",
              "      <td>1403.682007</td>\n",
              "      <td>1405.250000</td>\n",
              "      <td>1391.800049</td>\n",
              "      <td>1376.873858</td>\n",
              "      <td>1389.478045</td>\n",
              "    </tr>\n",
              "  </tbody>\n",
              "</table>\n",
              "<p>1305 rows × 5 columns</p>\n",
              "</div>\n",
              "      <button class=\"colab-df-convert\" onclick=\"convertToInteractive('df-f9977fcf-0bb3-4ebe-9096-75e9e0991726')\"\n",
              "              title=\"Convert this dataframe to an interactive table.\"\n",
              "              style=\"display:none;\">\n",
              "        \n",
              "  <svg xmlns=\"http://www.w3.org/2000/svg\" height=\"24px\"viewBox=\"0 0 24 24\"\n",
              "       width=\"24px\">\n",
              "    <path d=\"M0 0h24v24H0V0z\" fill=\"none\"/>\n",
              "    <path d=\"M18.56 5.44l.94 2.06.94-2.06 2.06-.94-2.06-.94-.94-2.06-.94 2.06-2.06.94zm-11 1L8.5 8.5l.94-2.06 2.06-.94-2.06-.94L8.5 2.5l-.94 2.06-2.06.94zm10 10l.94 2.06.94-2.06 2.06-.94-2.06-.94-.94-2.06-.94 2.06-2.06.94z\"/><path d=\"M17.41 7.96l-1.37-1.37c-.4-.4-.92-.59-1.43-.59-.52 0-1.04.2-1.43.59L10.3 9.45l-7.72 7.72c-.78.78-.78 2.05 0 2.83L4 21.41c.39.39.9.59 1.41.59.51 0 1.02-.2 1.41-.59l7.78-7.78 2.81-2.81c.8-.78.8-2.07 0-2.86zM5.41 20L4 18.59l7.72-7.72 1.47 1.35L5.41 20z\"/>\n",
              "  </svg>\n",
              "      </button>\n",
              "      \n",
              "  <style>\n",
              "    .colab-df-container {\n",
              "      display:flex;\n",
              "      flex-wrap:wrap;\n",
              "      gap: 12px;\n",
              "    }\n",
              "\n",
              "    .colab-df-convert {\n",
              "      background-color: #E8F0FE;\n",
              "      border: none;\n",
              "      border-radius: 50%;\n",
              "      cursor: pointer;\n",
              "      display: none;\n",
              "      fill: #1967D2;\n",
              "      height: 32px;\n",
              "      padding: 0 0 0 0;\n",
              "      width: 32px;\n",
              "    }\n",
              "\n",
              "    .colab-df-convert:hover {\n",
              "      background-color: #E2EBFA;\n",
              "      box-shadow: 0px 1px 2px rgba(60, 64, 67, 0.3), 0px 1px 3px 1px rgba(60, 64, 67, 0.15);\n",
              "      fill: #174EA6;\n",
              "    }\n",
              "\n",
              "    [theme=dark] .colab-df-convert {\n",
              "      background-color: #3B4455;\n",
              "      fill: #D2E3FC;\n",
              "    }\n",
              "\n",
              "    [theme=dark] .colab-df-convert:hover {\n",
              "      background-color: #434B5C;\n",
              "      box-shadow: 0px 1px 3px 1px rgba(0, 0, 0, 0.15);\n",
              "      filter: drop-shadow(0px 1px 2px rgba(0, 0, 0, 0.3));\n",
              "      fill: #FFFFFF;\n",
              "    }\n",
              "  </style>\n",
              "\n",
              "      <script>\n",
              "        const buttonEl =\n",
              "          document.querySelector('#df-f9977fcf-0bb3-4ebe-9096-75e9e0991726 button.colab-df-convert');\n",
              "        buttonEl.style.display =\n",
              "          google.colab.kernel.accessAllowed ? 'block' : 'none';\n",
              "\n",
              "        async function convertToInteractive(key) {\n",
              "          const element = document.querySelector('#df-f9977fcf-0bb3-4ebe-9096-75e9e0991726');\n",
              "          const dataTable =\n",
              "            await google.colab.kernel.invokeFunction('convertToInteractive',\n",
              "                                                     [key], {});\n",
              "          if (!dataTable) return;\n",
              "\n",
              "          const docLinkHtml = 'Like what you see? Visit the ' +\n",
              "            '<a target=\"_blank\" href=https://colab.research.google.com/notebooks/data_table.ipynb>data table notebook</a>'\n",
              "            + ' to learn more about interactive tables.';\n",
              "          element.innerHTML = '';\n",
              "          dataTable['output_type'] = 'display_data';\n",
              "          await google.colab.output.renderOutput(dataTable, element);\n",
              "          const docLink = document.createElement('div');\n",
              "          docLink.innerHTML = docLinkHtml;\n",
              "          element.appendChild(docLink);\n",
              "        }\n",
              "      </script>\n",
              "    </div>\n",
              "  </div>\n",
              "  "
            ]
          },
          "metadata": {},
          "execution_count": 64
        }
      ]
    },
    {
      "cell_type": "code",
      "source": [
        "fp = 0\n",
        "fn = 0\n",
        "tn = 0\n",
        "tp = 0\n",
        "\n",
        "for i in range(0, dataframe.shape[0]-1):\n",
        "    if dataframe.iloc[i+1][0] > dataframe.iloc[i][2] and dataframe.iloc[i+1][1]>dataframe.iloc[i][2]:\n",
        "        tp += 1\n",
        "    elif dataframe.iloc[i+1][0] > dataframe.iloc[i][2] and dataframe.iloc[i+1][1]<dataframe.iloc[i][2]:\n",
        "        fp += 1\n",
        "    elif dataframe.iloc[i+1][0] < dataframe.iloc[i][2] and dataframe.iloc[i+1][1]<dataframe.iloc[i][2]:\n",
        "        tn += 1\n",
        "    elif dataframe.iloc[i+1][0] < dataframe.iloc[i][2] and dataframe.iloc[i+1][1]>dataframe.iloc[i][2]:\n",
        "        fn += 1"
      ],
      "metadata": {
        "id": "Ga2tFTqI3jcL"
      },
      "execution_count": null,
      "outputs": []
    },
    {
      "cell_type": "code",
      "source": [
        "base_stock_matrix = (tp,fp,fn, tn)"
      ],
      "metadata": {
        "id": "lKaBEq-13jcL"
      },
      "execution_count": null,
      "outputs": []
    },
    {
      "cell_type": "code",
      "source": [
        "base_stock_accuracy = tp /(tp +fp )"
      ],
      "metadata": {
        "id": "FlIc80Y13jcL"
      },
      "execution_count": null,
      "outputs": []
    },
    {
      "cell_type": "markdown",
      "source": [
        "##Testing on POWERGRID"
      ],
      "metadata": {
        "id": "L3N71cKH3jcM"
      }
    },
    {
      "cell_type": "code",
      "source": [
        "df_IGL = pdr.get_data_yahoo(\"ICICIBANK.NS\", start=\"1980-02-01\", end=\"2022-07-13\")\n",
        "\n",
        "df_IGL['EWMA10'] = df_IGL['Close'].ewm(span=10).mean()\n",
        "df_IGL['EWMA5'] = df_IGL['Close'].ewm(span=5).mean()\n",
        "df_IGL"
      ],
      "metadata": {
        "colab": {
          "base_uri": "https://localhost:8080/"
        },
        "outputId": "3dd87acb-8a49-4c01-8a52-c943547d331e",
        "id": "IvOcLuAE3jcM"
      },
      "execution_count": null,
      "outputs": [
        {
          "output_type": "stream",
          "name": "stdout",
          "text": [
            "\r[*********************100%***********************]  1 of 1 completed\n"
          ]
        },
        {
          "output_type": "execute_result",
          "data": {
            "text/plain": [
              "                  Open        High         Low       Close   Adj Close  \\\n",
              "Date                                                                     \n",
              "2002-07-01   25.418180   25.818180   24.818180   25.127272   18.183352   \n",
              "2002-07-02   25.454544   27.636362   25.236362   26.745455   19.354347   \n",
              "2002-07-03   26.727272   28.181818   26.645454   28.090908   20.327986   \n",
              "2002-07-04   28.181818   28.799999   27.036364   27.390909   19.821436   \n",
              "2002-07-05   27.090908   27.863636   26.945454   27.672728   20.025372   \n",
              "...                ...         ...         ...         ...         ...   \n",
              "2022-07-06  723.000000  731.900024  722.000000  725.950012  721.619568   \n",
              "2022-07-07  735.950012  744.000000  733.000000  742.000000  737.573853   \n",
              "2022-07-08  751.299988  757.500000  744.549988  755.700012  751.192139   \n",
              "2022-07-11  755.000000  771.549988  755.000000  769.500000  764.909790   \n",
              "2022-07-12  765.349976  767.450012  757.700012  759.900024  755.367065   \n",
              "\n",
              "              Volume      EWMA10       EWMA5  \n",
              "Date                                          \n",
              "2002-07-01   2047540   25.127272   25.127272  \n",
              "2002-07-02   5546354   26.017272   26.098182  \n",
              "2002-07-03   5745267   26.850860   27.042105  \n",
              "2002-07-04   3896601   27.028782   27.186993  \n",
              "2002-07-05   3261038   27.213641   27.373460  \n",
              "...              ...         ...         ...  \n",
              "2022-07-06  12163533  712.571268  717.561514  \n",
              "2022-07-07  10374018  717.921946  725.707676  \n",
              "2022-07-08   9797700  724.790685  735.705121  \n",
              "2022-07-11  12440573  732.919652  746.970081  \n",
              "2022-07-12  10219829  737.825174  751.280062  \n",
              "\n",
              "[4978 rows x 8 columns]"
            ],
            "text/html": [
              "\n",
              "  <div id=\"df-79a9b833-7898-4532-bb49-08d887958c14\">\n",
              "    <div class=\"colab-df-container\">\n",
              "      <div>\n",
              "<style scoped>\n",
              "    .dataframe tbody tr th:only-of-type {\n",
              "        vertical-align: middle;\n",
              "    }\n",
              "\n",
              "    .dataframe tbody tr th {\n",
              "        vertical-align: top;\n",
              "    }\n",
              "\n",
              "    .dataframe thead th {\n",
              "        text-align: right;\n",
              "    }\n",
              "</style>\n",
              "<table border=\"1\" class=\"dataframe\">\n",
              "  <thead>\n",
              "    <tr style=\"text-align: right;\">\n",
              "      <th></th>\n",
              "      <th>Open</th>\n",
              "      <th>High</th>\n",
              "      <th>Low</th>\n",
              "      <th>Close</th>\n",
              "      <th>Adj Close</th>\n",
              "      <th>Volume</th>\n",
              "      <th>EWMA10</th>\n",
              "      <th>EWMA5</th>\n",
              "    </tr>\n",
              "    <tr>\n",
              "      <th>Date</th>\n",
              "      <th></th>\n",
              "      <th></th>\n",
              "      <th></th>\n",
              "      <th></th>\n",
              "      <th></th>\n",
              "      <th></th>\n",
              "      <th></th>\n",
              "      <th></th>\n",
              "    </tr>\n",
              "  </thead>\n",
              "  <tbody>\n",
              "    <tr>\n",
              "      <th>2002-07-01</th>\n",
              "      <td>25.418180</td>\n",
              "      <td>25.818180</td>\n",
              "      <td>24.818180</td>\n",
              "      <td>25.127272</td>\n",
              "      <td>18.183352</td>\n",
              "      <td>2047540</td>\n",
              "      <td>25.127272</td>\n",
              "      <td>25.127272</td>\n",
              "    </tr>\n",
              "    <tr>\n",
              "      <th>2002-07-02</th>\n",
              "      <td>25.454544</td>\n",
              "      <td>27.636362</td>\n",
              "      <td>25.236362</td>\n",
              "      <td>26.745455</td>\n",
              "      <td>19.354347</td>\n",
              "      <td>5546354</td>\n",
              "      <td>26.017272</td>\n",
              "      <td>26.098182</td>\n",
              "    </tr>\n",
              "    <tr>\n",
              "      <th>2002-07-03</th>\n",
              "      <td>26.727272</td>\n",
              "      <td>28.181818</td>\n",
              "      <td>26.645454</td>\n",
              "      <td>28.090908</td>\n",
              "      <td>20.327986</td>\n",
              "      <td>5745267</td>\n",
              "      <td>26.850860</td>\n",
              "      <td>27.042105</td>\n",
              "    </tr>\n",
              "    <tr>\n",
              "      <th>2002-07-04</th>\n",
              "      <td>28.181818</td>\n",
              "      <td>28.799999</td>\n",
              "      <td>27.036364</td>\n",
              "      <td>27.390909</td>\n",
              "      <td>19.821436</td>\n",
              "      <td>3896601</td>\n",
              "      <td>27.028782</td>\n",
              "      <td>27.186993</td>\n",
              "    </tr>\n",
              "    <tr>\n",
              "      <th>2002-07-05</th>\n",
              "      <td>27.090908</td>\n",
              "      <td>27.863636</td>\n",
              "      <td>26.945454</td>\n",
              "      <td>27.672728</td>\n",
              "      <td>20.025372</td>\n",
              "      <td>3261038</td>\n",
              "      <td>27.213641</td>\n",
              "      <td>27.373460</td>\n",
              "    </tr>\n",
              "    <tr>\n",
              "      <th>...</th>\n",
              "      <td>...</td>\n",
              "      <td>...</td>\n",
              "      <td>...</td>\n",
              "      <td>...</td>\n",
              "      <td>...</td>\n",
              "      <td>...</td>\n",
              "      <td>...</td>\n",
              "      <td>...</td>\n",
              "    </tr>\n",
              "    <tr>\n",
              "      <th>2022-07-06</th>\n",
              "      <td>723.000000</td>\n",
              "      <td>731.900024</td>\n",
              "      <td>722.000000</td>\n",
              "      <td>725.950012</td>\n",
              "      <td>721.619568</td>\n",
              "      <td>12163533</td>\n",
              "      <td>712.571268</td>\n",
              "      <td>717.561514</td>\n",
              "    </tr>\n",
              "    <tr>\n",
              "      <th>2022-07-07</th>\n",
              "      <td>735.950012</td>\n",
              "      <td>744.000000</td>\n",
              "      <td>733.000000</td>\n",
              "      <td>742.000000</td>\n",
              "      <td>737.573853</td>\n",
              "      <td>10374018</td>\n",
              "      <td>717.921946</td>\n",
              "      <td>725.707676</td>\n",
              "    </tr>\n",
              "    <tr>\n",
              "      <th>2022-07-08</th>\n",
              "      <td>751.299988</td>\n",
              "      <td>757.500000</td>\n",
              "      <td>744.549988</td>\n",
              "      <td>755.700012</td>\n",
              "      <td>751.192139</td>\n",
              "      <td>9797700</td>\n",
              "      <td>724.790685</td>\n",
              "      <td>735.705121</td>\n",
              "    </tr>\n",
              "    <tr>\n",
              "      <th>2022-07-11</th>\n",
              "      <td>755.000000</td>\n",
              "      <td>771.549988</td>\n",
              "      <td>755.000000</td>\n",
              "      <td>769.500000</td>\n",
              "      <td>764.909790</td>\n",
              "      <td>12440573</td>\n",
              "      <td>732.919652</td>\n",
              "      <td>746.970081</td>\n",
              "    </tr>\n",
              "    <tr>\n",
              "      <th>2022-07-12</th>\n",
              "      <td>765.349976</td>\n",
              "      <td>767.450012</td>\n",
              "      <td>757.700012</td>\n",
              "      <td>759.900024</td>\n",
              "      <td>755.367065</td>\n",
              "      <td>10219829</td>\n",
              "      <td>737.825174</td>\n",
              "      <td>751.280062</td>\n",
              "    </tr>\n",
              "  </tbody>\n",
              "</table>\n",
              "<p>4978 rows × 8 columns</p>\n",
              "</div>\n",
              "      <button class=\"colab-df-convert\" onclick=\"convertToInteractive('df-79a9b833-7898-4532-bb49-08d887958c14')\"\n",
              "              title=\"Convert this dataframe to an interactive table.\"\n",
              "              style=\"display:none;\">\n",
              "        \n",
              "  <svg xmlns=\"http://www.w3.org/2000/svg\" height=\"24px\"viewBox=\"0 0 24 24\"\n",
              "       width=\"24px\">\n",
              "    <path d=\"M0 0h24v24H0V0z\" fill=\"none\"/>\n",
              "    <path d=\"M18.56 5.44l.94 2.06.94-2.06 2.06-.94-2.06-.94-.94-2.06-.94 2.06-2.06.94zm-11 1L8.5 8.5l.94-2.06 2.06-.94-2.06-.94L8.5 2.5l-.94 2.06-2.06.94zm10 10l.94 2.06.94-2.06 2.06-.94-2.06-.94-.94-2.06-.94 2.06-2.06.94z\"/><path d=\"M17.41 7.96l-1.37-1.37c-.4-.4-.92-.59-1.43-.59-.52 0-1.04.2-1.43.59L10.3 9.45l-7.72 7.72c-.78.78-.78 2.05 0 2.83L4 21.41c.39.39.9.59 1.41.59.51 0 1.02-.2 1.41-.59l7.78-7.78 2.81-2.81c.8-.78.8-2.07 0-2.86zM5.41 20L4 18.59l7.72-7.72 1.47 1.35L5.41 20z\"/>\n",
              "  </svg>\n",
              "      </button>\n",
              "      \n",
              "  <style>\n",
              "    .colab-df-container {\n",
              "      display:flex;\n",
              "      flex-wrap:wrap;\n",
              "      gap: 12px;\n",
              "    }\n",
              "\n",
              "    .colab-df-convert {\n",
              "      background-color: #E8F0FE;\n",
              "      border: none;\n",
              "      border-radius: 50%;\n",
              "      cursor: pointer;\n",
              "      display: none;\n",
              "      fill: #1967D2;\n",
              "      height: 32px;\n",
              "      padding: 0 0 0 0;\n",
              "      width: 32px;\n",
              "    }\n",
              "\n",
              "    .colab-df-convert:hover {\n",
              "      background-color: #E2EBFA;\n",
              "      box-shadow: 0px 1px 2px rgba(60, 64, 67, 0.3), 0px 1px 3px 1px rgba(60, 64, 67, 0.15);\n",
              "      fill: #174EA6;\n",
              "    }\n",
              "\n",
              "    [theme=dark] .colab-df-convert {\n",
              "      background-color: #3B4455;\n",
              "      fill: #D2E3FC;\n",
              "    }\n",
              "\n",
              "    [theme=dark] .colab-df-convert:hover {\n",
              "      background-color: #434B5C;\n",
              "      box-shadow: 0px 1px 3px 1px rgba(0, 0, 0, 0.15);\n",
              "      filter: drop-shadow(0px 1px 2px rgba(0, 0, 0, 0.3));\n",
              "      fill: #FFFFFF;\n",
              "    }\n",
              "  </style>\n",
              "\n",
              "      <script>\n",
              "        const buttonEl =\n",
              "          document.querySelector('#df-79a9b833-7898-4532-bb49-08d887958c14 button.colab-df-convert');\n",
              "        buttonEl.style.display =\n",
              "          google.colab.kernel.accessAllowed ? 'block' : 'none';\n",
              "\n",
              "        async function convertToInteractive(key) {\n",
              "          const element = document.querySelector('#df-79a9b833-7898-4532-bb49-08d887958c14');\n",
              "          const dataTable =\n",
              "            await google.colab.kernel.invokeFunction('convertToInteractive',\n",
              "                                                     [key], {});\n",
              "          if (!dataTable) return;\n",
              "\n",
              "          const docLinkHtml = 'Like what you see? Visit the ' +\n",
              "            '<a target=\"_blank\" href=https://colab.research.google.com/notebooks/data_table.ipynb>data table notebook</a>'\n",
              "            + ' to learn more about interactive tables.';\n",
              "          element.innerHTML = '';\n",
              "          dataTable['output_type'] = 'display_data';\n",
              "          await google.colab.output.renderOutput(dataTable, element);\n",
              "          const docLink = document.createElement('div');\n",
              "          docLink.innerHTML = docLinkHtml;\n",
              "          element.appendChild(docLink);\n",
              "        }\n",
              "      </script>\n",
              "    </div>\n",
              "  </div>\n",
              "  "
            ]
          },
          "metadata": {},
          "execution_count": 68
        }
      ]
    },
    {
      "cell_type": "code",
      "source": [
        "testing_data = np.array(df_IGL[['Open', 'Close', 'EWMA10', 'EWMA5']])\n",
        "\n",
        "import math\n",
        "\n",
        "print(testing_data.shape)"
      ],
      "metadata": {
        "colab": {
          "base_uri": "https://localhost:8080/"
        },
        "outputId": "64537ce9-7174-4492-b9b9-002dbdf2bd19",
        "id": "KKg4qd9i3jcM"
      },
      "execution_count": null,
      "outputs": [
        {
          "output_type": "stream",
          "name": "stdout",
          "text": [
            "(4978, 4)\n"
          ]
        }
      ]
    },
    {
      "cell_type": "code",
      "source": [
        "batches_testing = []\n",
        "targets_testing = []\n",
        "\n",
        "for i in range(30,len(testing_data)):\n",
        "    buffer_array = list(testing_data[i-30:i,:])\n",
        "    targets_testing.append(testing_data[i][0])\n",
        "    batches_testing.append(buffer_array)\n",
        "\n",
        "print(np.array(batches_testing).shape, np.array(targets_testing).shape)\n"
      ],
      "metadata": {
        "colab": {
          "base_uri": "https://localhost:8080/"
        },
        "outputId": "22d78f94-42ad-45ae-c442-5c156560365a",
        "id": "CCsf5BCa3jcM"
      },
      "execution_count": null,
      "outputs": [
        {
          "output_type": "stream",
          "name": "stdout",
          "text": [
            "(4948, 30, 4) (4948,)\n"
          ]
        }
      ]
    },
    {
      "cell_type": "code",
      "source": [
        "#Define batch scaling function\n",
        "scaled_testing_data = []\n",
        "scaled_testing_targets = []\n",
        "scaled_testing_volume_data = []\n",
        "\n",
        "scaling_dict = {}\n",
        "def inverse_scale_data(x, min_x, max_x):\n",
        "  orig_seq = []\n",
        "  for j in x:\n",
        "    buffer_array = []\n",
        "    for k in j:\n",
        "      orig_k = k*(max_x-min_x) + min_x\n",
        "      buffer_array.append(orig_k)\n",
        "    orig_seq.append(buffer_array)\n",
        "  return orig_seq\n",
        "\n",
        "def inverse_scale_target(x, min_x, max_x):\n",
        "  orig_x = x*(max_x-min_x) + min_x\n",
        "  return orig_x\n",
        "\n",
        "def scale(x, buffer_target,i):\n",
        "  seq_x = np.array(x)\n",
        "  max_x = np.amax(seq_x)\n",
        "  min_x = np.amin(seq_x)\n",
        "  scaling_dict[i] = (min_x, max_x)\n",
        "  new_seq = []\n",
        "  for j in seq_x:\n",
        "    buffer_seq = []\n",
        "    for k in j:\n",
        "      new_k = (k-min_x)/(max_x-min_x)\n",
        "      buffer_seq.append(new_k)\n",
        "    new_seq.append(buffer_seq)\n",
        "  scaled_target = (buffer_target-min_x)/(max_x-min_x)\n",
        "  return new_seq, scaled_target\n",
        "\n",
        "\n",
        "for i in range(0, len(batches_testing)):\n",
        "  seq = batches_testing[i]\n",
        "  buffer_target = targets_testing[i]\n",
        "  new_seq, scaled_target = scale(seq, buffer_target, i)\n",
        "  scaled_testing_data.append(new_seq)\n",
        "  scaled_testing_targets.append(scaled_target)\n",
        "\n",
        "print(np.array(scaled_testing_data).shape, np.array(scaled_testing_targets).shape)"
      ],
      "metadata": {
        "colab": {
          "base_uri": "https://localhost:8080/"
        },
        "outputId": "3f8fee9e-d123-478d-d3ef-7b6e73ea44ea",
        "id": "kEU3O-BE3jcM"
      },
      "execution_count": null,
      "outputs": [
        {
          "output_type": "stream",
          "name": "stdout",
          "text": [
            "(4948, 30, 4) (4948,)\n"
          ]
        }
      ]
    },
    {
      "cell_type": "code",
      "source": [
        "x_test = np.array(scaled_testing_data)\n",
        "y_test = np.array(scaled_testing_targets)\n",
        "print(x_test.shape, y_test.shape)"
      ],
      "metadata": {
        "colab": {
          "base_uri": "https://localhost:8080/"
        },
        "outputId": "7b5a9d31-0951-468f-97f7-5087f53e4f06",
        "id": "0kgbhOut3jcM"
      },
      "execution_count": null,
      "outputs": [
        {
          "output_type": "stream",
          "name": "stdout",
          "text": [
            "(4948, 30, 4) (4948,)\n"
          ]
        }
      ]
    },
    {
      "cell_type": "code",
      "source": [
        "model.evaluate(x_test, y_test)"
      ],
      "metadata": {
        "colab": {
          "base_uri": "https://localhost:8080/"
        },
        "outputId": "6a1ea52a-4458-4927-d78c-937ad1306344",
        "id": "-vIVpgNl3jcM"
      },
      "execution_count": null,
      "outputs": [
        {
          "output_type": "stream",
          "name": "stdout",
          "text": [
            "155/155 [==============================] - 2s 10ms/step - loss: 0.0073\n"
          ]
        },
        {
          "output_type": "execute_result",
          "data": {
            "text/plain": [
              "0.00732417032122612"
            ]
          },
          "metadata": {},
          "execution_count": 73
        }
      ]
    },
    {
      "cell_type": "code",
      "source": [
        "prediction_list = model.predict(x_test)"
      ],
      "metadata": {
        "colab": {
          "base_uri": "https://localhost:8080/"
        },
        "outputId": "5b3ca3cb-0f8f-439b-c882-1d60deaa2fca",
        "id": "F6VtDo3N3jcM"
      },
      "execution_count": null,
      "outputs": [
        {
          "output_type": "stream",
          "name": "stdout",
          "text": [
            "155/155 [==============================] - 2s 14ms/step\n"
          ]
        }
      ]
    },
    {
      "cell_type": "code",
      "source": [
        "transformed_prediction_list = []\n",
        "\n",
        "for i in range(0,len(prediction_list)):\n",
        "    dict_values = list(scaling_dict[i])\n",
        "    or_seq = inverse_scale_target(prediction_list[i], dict_values[0], dict_values[1])\n",
        "    transformed_prediction_list.append(or_seq)"
      ],
      "metadata": {
        "id": "xRtSag4H3jcM"
      },
      "execution_count": null,
      "outputs": []
    },
    {
      "cell_type": "code",
      "source": [
        "print(len(transformed_prediction_list), len(testing_data[30:]))\n",
        "plt.plot(transformed_prediction_list)\n",
        "plt.plot(pd.DataFrame(testing_data[30:])[0])"
      ],
      "metadata": {
        "colab": {
          "base_uri": "https://localhost:8080/"
        },
        "outputId": "1c2aec04-aac2-4dd2-9584-0820e81e5655",
        "id": "Erb6ncmF3jcM"
      },
      "execution_count": null,
      "outputs": [
        {
          "output_type": "stream",
          "name": "stdout",
          "text": [
            "4948 4948\n"
          ]
        },
        {
          "output_type": "execute_result",
          "data": {
            "text/plain": [
              "[<matplotlib.lines.Line2D at 0x7f15b3649900>]"
            ]
          },
          "metadata": {},
          "execution_count": 76
        },
        {
          "output_type": "display_data",
          "data": {
            "text/plain": [
              "<Figure size 640x480 with 1 Axes>"
            ],
            "image/png": "[encoded data removed]"
          },
          "metadata": {}
        }
      ]
    },
    {
      "cell_type": "code",
      "source": [
        "transformed_prediction_list = np.array(transformed_prediction_list)\n",
        "testing_data_np = np.array(pd.DataFrame(testing_data[30:])[0])\n",
        "\n",
        "print(transformed_prediction_list.shape, testing_data_np.shape)\n",
        "error = 0\n",
        "for i in range(0,len(testing_data_np)):\n",
        "  buffer_error = math.sqrt((transformed_prediction_list[i] - testing_data_np[i])*(transformed_prediction_list[i] - testing_data_np[i]))\n",
        "  error += buffer_error\n",
        "\n",
        "test_stock_rmse = error/len(testing_data_np)\n",
        "print(\"Final rmse: \", error/len(testing_data_np))"
      ],
      "metadata": {
        "colab": {
          "base_uri": "https://localhost:8080/"
        },
        "outputId": "5370f990-8317-494c-fa4a-f1eed0e3eb69",
        "id": "Sja6qAg83jcN"
      },
      "execution_count": null,
      "outputs": [
        {
          "output_type": "stream",
          "name": "stdout",
          "text": [
            "(4948, 1) (4948,)\n",
            "Final rmse:  2.0468224732388585\n"
          ]
        }
      ]
    },
    {
      "cell_type": "markdown",
      "source": [
        "##Check how accurate regression is"
      ],
      "metadata": {
        "id": "lN-GVR1g3jcN"
      }
    },
    {
      "cell_type": "code",
      "source": [
        "preds, actual_close = pd.DataFrame(np.array(transformed_prediction_list)), pd.DataFrame(np.array(testing_data[30:]))\n",
        "dataframe = pd.concat([preds, actual_close], axis=1)\n",
        "dataframe.columns = ['preds', 'actual open', 'actual close', 'EWMA10', 'EWMA5']\n",
        "dataframe"
      ],
      "metadata": {
        "colab": {
          "base_uri": "https://localhost:8080/"
        },
        "outputId": "68151990-3da9-42e6-a645-332a7dd5de37",
        "id": "BGc4hRns3jcN"
      },
      "execution_count": null,
      "outputs": [
        {
          "output_type": "execute_result",
          "data": {
            "text/plain": [
              "           preds  actual open  actual close      EWMA10       EWMA5\n",
              "0      24.696476    24.545454     24.427273   25.007645   24.719660\n",
              "1      24.478682    24.545454     24.418180   24.900295   24.619166\n",
              "2      24.458527    24.472727     24.054544   24.746317   24.430959\n",
              "3      24.127758    24.054544     24.054544   24.620403   24.305487\n",
              "4      24.088762    24.090908     24.400000   24.580294   24.336991\n",
              "...          ...          ...           ...         ...         ...\n",
              "4943  719.385742   723.000000    725.950012  712.571268  717.561514\n",
              "4944  726.235107   735.950012    742.000000  717.921946  725.707676\n",
              "4945  742.348389   751.299988    755.700012  724.790685  735.705121\n",
              "4946  755.342590   755.000000    769.500000  732.919652  746.970081\n",
              "4947  768.704712   765.349976    759.900024  737.825174  751.280062\n",
              "\n",
              "[4948 rows x 5 columns]"
            ],
            "text/html": [
              "\n",
              "  <div id=\"df-dfe09276-6dfe-4ddc-bc0b-b8efb6198515\">\n",
              "    <div class=\"colab-df-container\">\n",
              "      <div>\n",
              "<style scoped>\n",
              "    .dataframe tbody tr th:only-of-type {\n",
              "        vertical-align: middle;\n",
              "    }\n",
              "\n",
              "    .dataframe tbody tr th {\n",
              "        vertical-align: top;\n",
              "    }\n",
              "\n",
              "    .dataframe thead th {\n",
              "        text-align: right;\n",
              "    }\n",
              "</style>\n",
              "<table border=\"1\" class=\"dataframe\">\n",
              "  <thead>\n",
              "    <tr style=\"text-align: right;\">\n",
              "      <th></th>\n",
              "      <th>preds</th>\n",
              "      <th>actual open</th>\n",
              "      <th>actual close</th>\n",
              "      <th>EWMA10</th>\n",
              "      <th>EWMA5</th>\n",
              "    </tr>\n",
              "  </thead>\n",
              "  <tbody>\n",
              "    <tr>\n",
              "      <th>0</th>\n",
              "      <td>24.696476</td>\n",
              "      <td>24.545454</td>\n",
              "      <td>24.427273</td>\n",
              "      <td>25.007645</td>\n",
              "      <td>24.719660</td>\n",
              "    </tr>\n",
              "    <tr>\n",
              "      <th>1</th>\n",
              "      <td>24.478682</td>\n",
              "      <td>24.545454</td>\n",
              "      <td>24.418180</td>\n",
              "      <td>24.900295</td>\n",
              "      <td>24.619166</td>\n",
              "    </tr>\n",
              "    <tr>\n",
              "      <th>2</th>\n",
              "      <td>24.458527</td>\n",
              "      <td>24.472727</td>\n",
              "      <td>24.054544</td>\n",
              "      <td>24.746317</td>\n",
              "      <td>24.430959</td>\n",
              "    </tr>\n",
              "    <tr>\n",
              "      <th>3</th>\n",
              "      <td>24.127758</td>\n",
              "      <td>24.054544</td>\n",
              "      <td>24.054544</td>\n",
              "      <td>24.620403</td>\n",
              "      <td>24.305487</td>\n",
              "    </tr>\n",
              "    <tr>\n",
              "      <th>4</th>\n",
              "      <td>24.088762</td>\n",
              "      <td>24.090908</td>\n",
              "      <td>24.400000</td>\n",
              "      <td>24.580294</td>\n",
              "      <td>24.336991</td>\n",
              "    </tr>\n",
              "    <tr>\n",
              "      <th>...</th>\n",
              "      <td>...</td>\n",
              "      <td>...</td>\n",
              "      <td>...</td>\n",
              "      <td>...</td>\n",
              "      <td>...</td>\n",
              "    </tr>\n",
              "    <tr>\n",
              "      <th>4943</th>\n",
              "      <td>719.385742</td>\n",
              "      <td>723.000000</td>\n",
              "      <td>725.950012</td>\n",
              "      <td>712.571268</td>\n",
              "      <td>717.561514</td>\n",
              "    </tr>\n",
              "    <tr>\n",
              "      <th>4944</th>\n",
              "      <td>726.235107</td>\n",
              "      <td>735.950012</td>\n",
              "      <td>742.000000</td>\n",
              "      <td>717.921946</td>\n",
              "      <td>725.707676</td>\n",
              "    </tr>\n",
              "    <tr>\n",
              "      <th>4945</th>\n",
              "      <td>742.348389</td>\n",
              "      <td>751.299988</td>\n",
              "      <td>755.700012</td>\n",
              "      <td>724.790685</td>\n",
              "      <td>735.705121</td>\n",
              "    </tr>\n",
              "    <tr>\n",
              "      <th>4946</th>\n",
              "      <td>755.342590</td>\n",
              "      <td>755.000000</td>\n",
              "      <td>769.500000</td>\n",
              "      <td>732.919652</td>\n",
              "      <td>746.970081</td>\n",
              "    </tr>\n",
              "    <tr>\n",
              "      <th>4947</th>\n",
              "      <td>768.704712</td>\n",
              "      <td>765.349976</td>\n",
              "      <td>759.900024</td>\n",
              "      <td>737.825174</td>\n",
              "      <td>751.280062</td>\n",
              "    </tr>\n",
              "  </tbody>\n",
              "</table>\n",
              "<p>4948 rows × 5 columns</p>\n",
              "</div>\n",
              "      <button class=\"colab-df-convert\" onclick=\"convertToInteractive('df-dfe09276-6dfe-4ddc-bc0b-b8efb6198515')\"\n",
              "              title=\"Convert this dataframe to an interactive table.\"\n",
              "              style=\"display:none;\">\n",
              "        \n",
              "  <svg xmlns=\"http://www.w3.org/2000/svg\" height=\"24px\"viewBox=\"0 0 24 24\"\n",
              "       width=\"24px\">\n",
              "    <path d=\"M0 0h24v24H0V0z\" fill=\"none\"/>\n",
              "    <path d=\"M18.56 5.44l.94 2.06.94-2.06 2.06-.94-2.06-.94-.94-2.06-.94 2.06-2.06.94zm-11 1L8.5 8.5l.94-2.06 2.06-.94-2.06-.94L8.5 2.5l-.94 2.06-2.06.94zm10 10l.94 2.06.94-2.06 2.06-.94-2.06-.94-.94-2.06-.94 2.06-2.06.94z\"/><path d=\"M17.41 7.96l-1.37-1.37c-.4-.4-.92-.59-1.43-.59-.52 0-1.04.2-1.43.59L10.3 9.45l-7.72 7.72c-.78.78-.78 2.05 0 2.83L4 21.41c.39.39.9.59 1.41.59.51 0 1.02-.2 1.41-.59l7.78-7.78 2.81-2.81c.8-.78.8-2.07 0-2.86zM5.41 20L4 18.59l7.72-7.72 1.47 1.35L5.41 20z\"/>\n",
              "  </svg>\n",
              "      </button>\n",
              "      \n",
              "  <style>\n",
              "    .colab-df-container {\n",
              "      display:flex;\n",
              "      flex-wrap:wrap;\n",
              "      gap: 12px;\n",
              "    }\n",
              "\n",
              "    .colab-df-convert {\n",
              "      background-color: #E8F0FE;\n",
              "      border: none;\n",
              "      border-radius: 50%;\n",
              "      cursor: pointer;\n",
              "      display: none;\n",
              "      fill: #1967D2;\n",
              "      height: 32px;\n",
              "      padding: 0 0 0 0;\n",
              "      width: 32px;\n",
              "    }\n",
              "\n",
              "    .colab-df-convert:hover {\n",
              "      background-color: #E2EBFA;\n",
              "      box-shadow: 0px 1px 2px rgba(60, 64, 67, 0.3), 0px 1px 3px 1px rgba(60, 64, 67, 0.15);\n",
              "      fill: #174EA6;\n",
              "    }\n",
              "\n",
              "    [theme=dark] .colab-df-convert {\n",
              "      background-color: #3B4455;\n",
              "      fill: #D2E3FC;\n",
              "    }\n",
              "\n",
              "    [theme=dark] .colab-df-convert:hover {\n",
              "      background-color: #434B5C;\n",
              "      box-shadow: 0px 1px 3px 1px rgba(0, 0, 0, 0.15);\n",
              "      filter: drop-shadow(0px 1px 2px rgba(0, 0, 0, 0.3));\n",
              "      fill: #FFFFFF;\n",
              "    }\n",
              "  </style>\n",
              "\n",
              "      <script>\n",
              "        const buttonEl =\n",
              "          document.querySelector('#df-dfe09276-6dfe-4ddc-bc0b-b8efb6198515 button.colab-df-convert');\n",
              "        buttonEl.style.display =\n",
              "          google.colab.kernel.accessAllowed ? 'block' : 'none';\n",
              "\n",
              "        async function convertToInteractive(key) {\n",
              "          const element = document.querySelector('#df-dfe09276-6dfe-4ddc-bc0b-b8efb6198515');\n",
              "          const dataTable =\n",
              "            await google.colab.kernel.invokeFunction('convertToInteractive',\n",
              "                                                     [key], {});\n",
              "          if (!dataTable) return;\n",
              "\n",
              "          const docLinkHtml = 'Like what you see? Visit the ' +\n",
              "            '<a target=\"_blank\" href=https://colab.research.google.com/notebooks/data_table.ipynb>data table notebook</a>'\n",
              "            + ' to learn more about interactive tables.';\n",
              "          element.innerHTML = '';\n",
              "          dataTable['output_type'] = 'display_data';\n",
              "          await google.colab.output.renderOutput(dataTable, element);\n",
              "          const docLink = document.createElement('div');\n",
              "          docLink.innerHTML = docLinkHtml;\n",
              "          element.appendChild(docLink);\n",
              "        }\n",
              "      </script>\n",
              "    </div>\n",
              "  </div>\n",
              "  "
            ]
          },
          "metadata": {},
          "execution_count": 78
        }
      ]
    },
    {
      "cell_type": "code",
      "source": [
        "fp = 0\n",
        "fn = 0\n",
        "tn = 0\n",
        "tp = 0\n",
        "\n",
        "for i in range(0, dataframe.shape[0]-1):\n",
        "    if dataframe.iloc[i+1][0] > dataframe.iloc[i][2] and dataframe.iloc[i+1][1]>dataframe.iloc[i][2]:\n",
        "        tp += 1\n",
        "    elif dataframe.iloc[i+1][0] > dataframe.iloc[i][2] and dataframe.iloc[i+1][1]<dataframe.iloc[i][2]:\n",
        "        fp += 1\n",
        "    elif dataframe.iloc[i+1][0] < dataframe.iloc[i][2] and dataframe.iloc[i+1][1]<dataframe.iloc[i][2]:\n",
        "        tn += 1\n",
        "    elif dataframe.iloc[i+1][0] < dataframe.iloc[i][2] and dataframe.iloc[i+1][1]>dataframe.iloc[i][2]:\n",
        "        fn += 1"
      ],
      "metadata": {
        "id": "JlN6Ys2a3jcN"
      },
      "execution_count": null,
      "outputs": []
    },
    {
      "cell_type": "code",
      "source": [
        "test_stock_matrix = (tp,fp,fn, tn)"
      ],
      "metadata": {
        "id": "qgdvszCu3jcN"
      },
      "execution_count": null,
      "outputs": []
    },
    {
      "cell_type": "code",
      "source": [
        "test_stock_accuracy = tp /(tp +fp )"
      ],
      "metadata": {
        "id": "yUah8FP23jcN"
      },
      "execution_count": null,
      "outputs": []
    },
    {
      "cell_type": "code",
      "source": [],
      "metadata": {
        "id": "X2MyiMHt3jcN"
      },
      "execution_count": null,
      "outputs": []
    },
    {
      "cell_type": "markdown",
      "source": [
        "#Results of above"
      ],
      "metadata": {
        "id": "JVkAR9nLQ8xT"
      }
    },
    {
      "cell_type": "code",
      "source": [
        "print(\"base stock rmse: \", base_stock_rmse)\n",
        "print(\"base stock matrix: \", base_stock_matrix)\n",
        "print(\"test stock rmse: \", test_stock_rmse)\n",
        "print(\"test stock accuracy: \", test_stock_accuracy)\n",
        "print(\"test stock matrix: \", test_stock_matrix)"
      ],
      "metadata": {
        "colab": {
          "base_uri": "https://localhost:8080/"
        },
        "id": "zSFPt8TRQ964",
        "outputId": "6ecb05ca-9908-4ed1-e6dc-22cf2120ecd3"
      },
      "execution_count": null,
      "outputs": [
        {
          "output_type": "stream",
          "name": "stdout",
          "text": [
            "base stock rmse:  7.330701900648866\n",
            "base stock matrix:  (216, 161, 540, 364)\n",
            "test stock rmse:  2.0468224732388585\n",
            "test stock accuracy:  0.6148693904889484\n",
            "test stock matrix:  (918, 575, 2022, 1291)\n"
          ]
        }
      ]
    }
  ]
}